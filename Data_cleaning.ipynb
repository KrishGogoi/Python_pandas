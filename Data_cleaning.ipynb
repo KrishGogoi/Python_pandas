{
 "cells": [
  {
   "cell_type": "markdown",
   "id": "55167442-4600-469f-972c-84134fdd4040",
   "metadata": {},
   "source": [
    "## Data Cleanning and visualization"
   ]
  },
  {
   "cell_type": "code",
   "execution_count": 182,
   "id": "0b281107-e044-4a88-9891-4f9a646b0896",
   "metadata": {},
   "outputs": [],
   "source": [
    "import pandas as pd\n",
    "import numpy as np\n",
    "import seaborn as sns\n",
    "import matplotlib.pyplot as plt\n",
    "\n",
    "import warnings\n",
    "warnings.filterwarnings('ignore')"
   ]
  },
  {
   "cell_type": "code",
   "execution_count": 183,
   "id": "9fe385d6-28cf-4dfa-988b-b1c836f92528",
   "metadata": {},
   "outputs": [],
   "source": [
    "df = pd.read_csv('amazon.csv')"
   ]
  },
  {
   "cell_type": "code",
   "execution_count": 184,
   "id": "530c6758-68a6-4607-94dd-e82ae4e51263",
   "metadata": {},
   "outputs": [
    {
     "data": {
      "text/html": [
       "<div>\n",
       "<style scoped>\n",
       "    .dataframe tbody tr th:only-of-type {\n",
       "        vertical-align: middle;\n",
       "    }\n",
       "\n",
       "    .dataframe tbody tr th {\n",
       "        vertical-align: top;\n",
       "    }\n",
       "\n",
       "    .dataframe thead th {\n",
       "        text-align: right;\n",
       "    }\n",
       "</style>\n",
       "<table border=\"1\" class=\"dataframe\">\n",
       "  <thead>\n",
       "    <tr style=\"text-align: right;\">\n",
       "      <th></th>\n",
       "      <th>product_id</th>\n",
       "      <th>product_name</th>\n",
       "      <th>category</th>\n",
       "      <th>discounted_price</th>\n",
       "      <th>actual_price</th>\n",
       "      <th>discount_percentage</th>\n",
       "      <th>rating</th>\n",
       "      <th>rating_count</th>\n",
       "      <th>about_product</th>\n",
       "      <th>user_id</th>\n",
       "      <th>user_name</th>\n",
       "      <th>review_id</th>\n",
       "      <th>review_title</th>\n",
       "      <th>review_content</th>\n",
       "      <th>img_link</th>\n",
       "      <th>product_link</th>\n",
       "    </tr>\n",
       "  </thead>\n",
       "  <tbody>\n",
       "    <tr>\n",
       "      <th>0</th>\n",
       "      <td>B07JW9H4J1</td>\n",
       "      <td>Wayona Nylon Braided USB to Lightning Fast Cha...</td>\n",
       "      <td>Computers&amp;Accessories|Accessories&amp;Peripherals|...</td>\n",
       "      <td>₹399</td>\n",
       "      <td>₹1,099</td>\n",
       "      <td>64%</td>\n",
       "      <td>4.2</td>\n",
       "      <td>24,269</td>\n",
       "      <td>High Compatibility : Compatible With iPhone 12...</td>\n",
       "      <td>AG3D6O4STAQKAY2UVGEUV46KN35Q,AHMY5CWJMMK5BJRBB...</td>\n",
       "      <td>Manav,Adarsh gupta,Sundeep,S.Sayeed Ahmed,jasp...</td>\n",
       "      <td>R3HXWT0LRP0NMF,R2AJM3LFTLZHFO,R6AQJGUP6P86,R1K...</td>\n",
       "      <td>Satisfied,Charging is really fast,Value for mo...</td>\n",
       "      <td>Looks durable Charging is fine tooNo complains...</td>\n",
       "      <td>https://m.media-amazon.com/images/W/WEBP_40237...</td>\n",
       "      <td>https://www.amazon.in/Wayona-Braided-WN3LG1-Sy...</td>\n",
       "    </tr>\n",
       "    <tr>\n",
       "      <th>1</th>\n",
       "      <td>B098NS6PVG</td>\n",
       "      <td>Ambrane Unbreakable 60W / 3A Fast Charging 1.5...</td>\n",
       "      <td>Computers&amp;Accessories|Accessories&amp;Peripherals|...</td>\n",
       "      <td>₹199</td>\n",
       "      <td>₹349</td>\n",
       "      <td>43%</td>\n",
       "      <td>4.0</td>\n",
       "      <td>43,994</td>\n",
       "      <td>Compatible with all Type C enabled devices, be...</td>\n",
       "      <td>AECPFYFQVRUWC3KGNLJIOREFP5LQ,AGYYVPDD7YG7FYNBX...</td>\n",
       "      <td>ArdKn,Nirbhay kumar,Sagar Viswanathan,Asp,Plac...</td>\n",
       "      <td>RGIQEG07R9HS2,R1SMWZQ86XIN8U,R2J3Y1WL29GWDE,RY...</td>\n",
       "      <td>A Good Braided Cable for Your Type C Device,Go...</td>\n",
       "      <td>I ordered this cable to connect my phone to An...</td>\n",
       "      <td>https://m.media-amazon.com/images/W/WEBP_40237...</td>\n",
       "      <td>https://www.amazon.in/Ambrane-Unbreakable-Char...</td>\n",
       "    </tr>\n",
       "    <tr>\n",
       "      <th>2</th>\n",
       "      <td>B096MSW6CT</td>\n",
       "      <td>Sounce Fast Phone Charging Cable &amp; Data Sync U...</td>\n",
       "      <td>Computers&amp;Accessories|Accessories&amp;Peripherals|...</td>\n",
       "      <td>₹199</td>\n",
       "      <td>₹1,899</td>\n",
       "      <td>90%</td>\n",
       "      <td>3.9</td>\n",
       "      <td>7,928</td>\n",
       "      <td>【 Fast Charger&amp; Data Sync】-With built-in safet...</td>\n",
       "      <td>AGU3BBQ2V2DDAMOAKGFAWDDQ6QHA,AESFLDV2PT363T2AQ...</td>\n",
       "      <td>Kunal,Himanshu,viswanath,sai niharka,saqib mal...</td>\n",
       "      <td>R3J3EQQ9TZI5ZJ,R3E7WBGK7ID0KV,RWU79XKQ6I1QF,R2...</td>\n",
       "      <td>Good speed for earlier versions,Good Product,W...</td>\n",
       "      <td>Not quite durable and sturdy,https://m.media-a...</td>\n",
       "      <td>https://m.media-amazon.com/images/W/WEBP_40237...</td>\n",
       "      <td>https://www.amazon.in/Sounce-iPhone-Charging-C...</td>\n",
       "    </tr>\n",
       "    <tr>\n",
       "      <th>3</th>\n",
       "      <td>B08HDJ86NZ</td>\n",
       "      <td>boAt Deuce USB 300 2 in 1 Type-C &amp; Micro USB S...</td>\n",
       "      <td>Computers&amp;Accessories|Accessories&amp;Peripherals|...</td>\n",
       "      <td>₹329</td>\n",
       "      <td>₹699</td>\n",
       "      <td>53%</td>\n",
       "      <td>4.2</td>\n",
       "      <td>94,363</td>\n",
       "      <td>The boAt Deuce USB 300 2 in 1 cable is compati...</td>\n",
       "      <td>AEWAZDZZJLQUYVOVGBEUKSLXHQ5A,AG5HTSFRRE6NL3M5S...</td>\n",
       "      <td>Omkar dhale,JD,HEMALATHA,Ajwadh a.,amar singh ...</td>\n",
       "      <td>R3EEUZKKK9J36I,R3HJVYCLYOY554,REDECAZ7AMPQC,R1...</td>\n",
       "      <td>Good product,Good one,Nice,Really nice product...</td>\n",
       "      <td>Good product,long wire,Charges good,Nice,I bou...</td>\n",
       "      <td>https://m.media-amazon.com/images/I/41V5FtEWPk...</td>\n",
       "      <td>https://www.amazon.in/Deuce-300-Resistant-Tang...</td>\n",
       "    </tr>\n",
       "    <tr>\n",
       "      <th>4</th>\n",
       "      <td>B08CF3B7N1</td>\n",
       "      <td>Portronics Konnect L 1.2M Fast Charging 3A 8 P...</td>\n",
       "      <td>Computers&amp;Accessories|Accessories&amp;Peripherals|...</td>\n",
       "      <td>₹154</td>\n",
       "      <td>₹399</td>\n",
       "      <td>61%</td>\n",
       "      <td>4.2</td>\n",
       "      <td>16,905</td>\n",
       "      <td>[CHARGE &amp; SYNC FUNCTION]- This cable comes wit...</td>\n",
       "      <td>AE3Q6KSUK5P75D5HFYHCRAOLODSA,AFUGIFH5ZAFXRDSZH...</td>\n",
       "      <td>rahuls6099,Swasat Borah,Ajay Wadke,Pranali,RVK...</td>\n",
       "      <td>R1BP4L2HH9TFUP,R16PVJEXKV6QZS,R2UPDB81N66T4P,R...</td>\n",
       "      <td>As good as original,Decent,Good one for second...</td>\n",
       "      <td>Bought this instead of original apple, does th...</td>\n",
       "      <td>https://m.media-amazon.com/images/W/WEBP_40237...</td>\n",
       "      <td>https://www.amazon.in/Portronics-Konnect-POR-1...</td>\n",
       "    </tr>\n",
       "  </tbody>\n",
       "</table>\n",
       "</div>"
      ],
      "text/plain": [
       "   product_id                                       product_name  \\\n",
       "0  B07JW9H4J1  Wayona Nylon Braided USB to Lightning Fast Cha...   \n",
       "1  B098NS6PVG  Ambrane Unbreakable 60W / 3A Fast Charging 1.5...   \n",
       "2  B096MSW6CT  Sounce Fast Phone Charging Cable & Data Sync U...   \n",
       "3  B08HDJ86NZ  boAt Deuce USB 300 2 in 1 Type-C & Micro USB S...   \n",
       "4  B08CF3B7N1  Portronics Konnect L 1.2M Fast Charging 3A 8 P...   \n",
       "\n",
       "                                            category discounted_price  \\\n",
       "0  Computers&Accessories|Accessories&Peripherals|...             ₹399   \n",
       "1  Computers&Accessories|Accessories&Peripherals|...             ₹199   \n",
       "2  Computers&Accessories|Accessories&Peripherals|...             ₹199   \n",
       "3  Computers&Accessories|Accessories&Peripherals|...             ₹329   \n",
       "4  Computers&Accessories|Accessories&Peripherals|...             ₹154   \n",
       "\n",
       "  actual_price discount_percentage rating rating_count  \\\n",
       "0       ₹1,099                 64%    4.2       24,269   \n",
       "1         ₹349                 43%    4.0       43,994   \n",
       "2       ₹1,899                 90%    3.9        7,928   \n",
       "3         ₹699                 53%    4.2       94,363   \n",
       "4         ₹399                 61%    4.2       16,905   \n",
       "\n",
       "                                       about_product  \\\n",
       "0  High Compatibility : Compatible With iPhone 12...   \n",
       "1  Compatible with all Type C enabled devices, be...   \n",
       "2  【 Fast Charger& Data Sync】-With built-in safet...   \n",
       "3  The boAt Deuce USB 300 2 in 1 cable is compati...   \n",
       "4  [CHARGE & SYNC FUNCTION]- This cable comes wit...   \n",
       "\n",
       "                                             user_id  \\\n",
       "0  AG3D6O4STAQKAY2UVGEUV46KN35Q,AHMY5CWJMMK5BJRBB...   \n",
       "1  AECPFYFQVRUWC3KGNLJIOREFP5LQ,AGYYVPDD7YG7FYNBX...   \n",
       "2  AGU3BBQ2V2DDAMOAKGFAWDDQ6QHA,AESFLDV2PT363T2AQ...   \n",
       "3  AEWAZDZZJLQUYVOVGBEUKSLXHQ5A,AG5HTSFRRE6NL3M5S...   \n",
       "4  AE3Q6KSUK5P75D5HFYHCRAOLODSA,AFUGIFH5ZAFXRDSZH...   \n",
       "\n",
       "                                           user_name  \\\n",
       "0  Manav,Adarsh gupta,Sundeep,S.Sayeed Ahmed,jasp...   \n",
       "1  ArdKn,Nirbhay kumar,Sagar Viswanathan,Asp,Plac...   \n",
       "2  Kunal,Himanshu,viswanath,sai niharka,saqib mal...   \n",
       "3  Omkar dhale,JD,HEMALATHA,Ajwadh a.,amar singh ...   \n",
       "4  rahuls6099,Swasat Borah,Ajay Wadke,Pranali,RVK...   \n",
       "\n",
       "                                           review_id  \\\n",
       "0  R3HXWT0LRP0NMF,R2AJM3LFTLZHFO,R6AQJGUP6P86,R1K...   \n",
       "1  RGIQEG07R9HS2,R1SMWZQ86XIN8U,R2J3Y1WL29GWDE,RY...   \n",
       "2  R3J3EQQ9TZI5ZJ,R3E7WBGK7ID0KV,RWU79XKQ6I1QF,R2...   \n",
       "3  R3EEUZKKK9J36I,R3HJVYCLYOY554,REDECAZ7AMPQC,R1...   \n",
       "4  R1BP4L2HH9TFUP,R16PVJEXKV6QZS,R2UPDB81N66T4P,R...   \n",
       "\n",
       "                                        review_title  \\\n",
       "0  Satisfied,Charging is really fast,Value for mo...   \n",
       "1  A Good Braided Cable for Your Type C Device,Go...   \n",
       "2  Good speed for earlier versions,Good Product,W...   \n",
       "3  Good product,Good one,Nice,Really nice product...   \n",
       "4  As good as original,Decent,Good one for second...   \n",
       "\n",
       "                                      review_content  \\\n",
       "0  Looks durable Charging is fine tooNo complains...   \n",
       "1  I ordered this cable to connect my phone to An...   \n",
       "2  Not quite durable and sturdy,https://m.media-a...   \n",
       "3  Good product,long wire,Charges good,Nice,I bou...   \n",
       "4  Bought this instead of original apple, does th...   \n",
       "\n",
       "                                            img_link  \\\n",
       "0  https://m.media-amazon.com/images/W/WEBP_40237...   \n",
       "1  https://m.media-amazon.com/images/W/WEBP_40237...   \n",
       "2  https://m.media-amazon.com/images/W/WEBP_40237...   \n",
       "3  https://m.media-amazon.com/images/I/41V5FtEWPk...   \n",
       "4  https://m.media-amazon.com/images/W/WEBP_40237...   \n",
       "\n",
       "                                        product_link  \n",
       "0  https://www.amazon.in/Wayona-Braided-WN3LG1-Sy...  \n",
       "1  https://www.amazon.in/Ambrane-Unbreakable-Char...  \n",
       "2  https://www.amazon.in/Sounce-iPhone-Charging-C...  \n",
       "3  https://www.amazon.in/Deuce-300-Resistant-Tang...  \n",
       "4  https://www.amazon.in/Portronics-Konnect-POR-1...  "
      ]
     },
     "execution_count": 184,
     "metadata": {},
     "output_type": "execute_result"
    }
   ],
   "source": [
    "df.head()"
   ]
  },
  {
   "cell_type": "code",
   "execution_count": 185,
   "id": "723c7e72-78f2-48dc-8e45-c74d08f707a0",
   "metadata": {},
   "outputs": [],
   "source": [
    "# Used the check_df() function to understand data quickly\n",
    "def check_df(dataframe, head=5):\n",
    "    print(\"Shape--\")\n",
    "    print(dataframe.shape)\n",
    "    print(\"\\nTypes--\")\n",
    "    print(dataframe.dtypes)\n",
    "    print(\"\\nNAN--\")\n",
    "    print(dataframe.isnull().sum())\n",
    "    print(\"\\nDescribe--\")\n",
    "    print(dataframe.describe().T)"
   ]
  },
  {
   "cell_type": "code",
   "execution_count": 186,
   "id": "32365bb6-1f0c-4869-9f77-27354a65efa0",
   "metadata": {},
   "outputs": [
    {
     "name": "stdout",
     "output_type": "stream",
     "text": [
      "Shape--\n",
      "(1465, 16)\n",
      "\n",
      "Types--\n",
      "product_id             object\n",
      "product_name           object\n",
      "category               object\n",
      "discounted_price       object\n",
      "actual_price           object\n",
      "discount_percentage    object\n",
      "rating                 object\n",
      "rating_count           object\n",
      "about_product          object\n",
      "user_id                object\n",
      "user_name              object\n",
      "review_id              object\n",
      "review_title           object\n",
      "review_content         object\n",
      "img_link               object\n",
      "product_link           object\n",
      "dtype: object\n",
      "\n",
      "NAN--\n",
      "product_id             0\n",
      "product_name           0\n",
      "category               0\n",
      "discounted_price       0\n",
      "actual_price           0\n",
      "discount_percentage    0\n",
      "rating                 0\n",
      "rating_count           2\n",
      "about_product          0\n",
      "user_id                0\n",
      "user_name              0\n",
      "review_id              0\n",
      "review_title           0\n",
      "review_content         0\n",
      "img_link               0\n",
      "product_link           0\n",
      "dtype: int64\n",
      "\n",
      "Describe--\n",
      "                    count unique  \\\n",
      "product_id           1465   1351   \n",
      "product_name         1465   1337   \n",
      "category             1465    211   \n",
      "discounted_price     1465    550   \n",
      "actual_price         1465    449   \n",
      "discount_percentage  1465     92   \n",
      "rating               1465     28   \n",
      "rating_count         1463   1143   \n",
      "about_product        1465   1293   \n",
      "user_id              1465   1194   \n",
      "user_name            1465   1194   \n",
      "review_id            1465   1194   \n",
      "review_title         1465   1194   \n",
      "review_content       1465   1212   \n",
      "img_link             1465   1412   \n",
      "product_link         1465   1465   \n",
      "\n",
      "                                                                   top freq  \n",
      "product_id                                                  B08WRWPM22    3  \n",
      "product_name         Fire-Boltt Ninja Call Pro Plus 1.83\" Smart Wat...    5  \n",
      "category             Computers&Accessories|Accessories&Peripherals|...  233  \n",
      "discounted_price                                                  ₹199   53  \n",
      "actual_price                                                      ₹999  120  \n",
      "discount_percentage                                                50%   56  \n",
      "rating                                                             4.1  244  \n",
      "rating_count                                                     9,378    9  \n",
      "about_product        [CHARGE & SYNC FUNCTION]- This cable comes wit...    6  \n",
      "user_id              AHIKJUDTVJ4T6DV6IUGFYZ5LXMPA,AE55KTFVNXYFD5FPY...   10  \n",
      "user_name            $@|\\|TO$|-|,Sethu madhav,Akash Thakur,Burger P...   10  \n",
      "review_id            R3F4T5TRYPTMIG,R3DQIEC603E7AY,R1O4Z15FD40PV5,R...   10  \n",
      "review_title         Worked on iPhone 7 and didn’t work on XR,Good ...   10  \n",
      "review_content       I am not big on camera usage, personally. I wa...    8  \n",
      "img_link             https://m.media-amazon.com/images/I/413sCRKobN...    3  \n",
      "product_link         https://www.amazon.in/Borosil-Jumbo-1000-Watt-...    1  \n"
     ]
    }
   ],
   "source": [
    "check_df(df)"
   ]
  },
  {
   "cell_type": "code",
   "execution_count": 187,
   "id": "6e89b722-253f-4ce9-a3e4-424e307000bc",
   "metadata": {},
   "outputs": [
    {
     "data": {
      "text/plain": [
       "Index(['product_id', 'product_name', 'category', 'discounted_price',\n",
       "       'actual_price', 'discount_percentage', 'rating', 'rating_count',\n",
       "       'about_product', 'user_id', 'user_name', 'review_id', 'review_title',\n",
       "       'review_content', 'img_link', 'product_link'],\n",
       "      dtype='object')"
      ]
     },
     "execution_count": 187,
     "metadata": {},
     "output_type": "execute_result"
    }
   ],
   "source": [
    "df.columns"
   ]
  },
  {
   "cell_type": "code",
   "execution_count": 188,
   "id": "aff37ef5-f7c6-4217-a135-af29716a8494",
   "metadata": {},
   "outputs": [
    {
     "data": {
      "text/plain": [
       "np.int64(0)"
      ]
     },
     "execution_count": 188,
     "metadata": {},
     "output_type": "execute_result"
    }
   ],
   "source": [
    "df.duplicated().sum()"
   ]
  },
  {
   "cell_type": "code",
   "execution_count": 189,
   "id": "b5d89210-93d6-4b06-9b4e-6fa662604383",
   "metadata": {},
   "outputs": [
    {
     "data": {
      "text/html": [
       "<div>\n",
       "<style scoped>\n",
       "    .dataframe tbody tr th:only-of-type {\n",
       "        vertical-align: middle;\n",
       "    }\n",
       "\n",
       "    .dataframe tbody tr th {\n",
       "        vertical-align: top;\n",
       "    }\n",
       "\n",
       "    .dataframe thead th {\n",
       "        text-align: right;\n",
       "    }\n",
       "</style>\n",
       "<table border=\"1\" class=\"dataframe\">\n",
       "  <thead>\n",
       "    <tr style=\"text-align: right;\">\n",
       "      <th></th>\n",
       "      <th>product_id</th>\n",
       "      <th>product_name</th>\n",
       "      <th>category</th>\n",
       "      <th>discounted_price</th>\n",
       "      <th>actual_price</th>\n",
       "      <th>discount_percentage</th>\n",
       "      <th>rating</th>\n",
       "      <th>rating_count</th>\n",
       "      <th>about_product</th>\n",
       "      <th>user_id</th>\n",
       "      <th>user_name</th>\n",
       "      <th>review_id</th>\n",
       "      <th>review_title</th>\n",
       "      <th>review_content</th>\n",
       "      <th>img_link</th>\n",
       "      <th>product_link</th>\n",
       "    </tr>\n",
       "  </thead>\n",
       "  <tbody>\n",
       "    <tr>\n",
       "      <th>0</th>\n",
       "      <td>B07JW9H4J1</td>\n",
       "      <td>Wayona Nylon Braided USB to Lightning Fast Cha...</td>\n",
       "      <td>Computers&amp;Accessories|Accessories&amp;Peripherals|...</td>\n",
       "      <td>₹399</td>\n",
       "      <td>₹1,099</td>\n",
       "      <td>64%</td>\n",
       "      <td>4.2</td>\n",
       "      <td>24,269</td>\n",
       "      <td>High Compatibility : Compatible With iPhone 12...</td>\n",
       "      <td>AG3D6O4STAQKAY2UVGEUV46KN35Q,AHMY5CWJMMK5BJRBB...</td>\n",
       "      <td>Manav,Adarsh gupta,Sundeep,S.Sayeed Ahmed,jasp...</td>\n",
       "      <td>R3HXWT0LRP0NMF,R2AJM3LFTLZHFO,R6AQJGUP6P86,R1K...</td>\n",
       "      <td>Satisfied,Charging is really fast,Value for mo...</td>\n",
       "      <td>Looks durable Charging is fine tooNo complains...</td>\n",
       "      <td>https://m.media-amazon.com/images/W/WEBP_40237...</td>\n",
       "      <td>https://www.amazon.in/Wayona-Braided-WN3LG1-Sy...</td>\n",
       "    </tr>\n",
       "    <tr>\n",
       "      <th>1</th>\n",
       "      <td>B098NS6PVG</td>\n",
       "      <td>Ambrane Unbreakable 60W / 3A Fast Charging 1.5...</td>\n",
       "      <td>Computers&amp;Accessories|Accessories&amp;Peripherals|...</td>\n",
       "      <td>₹199</td>\n",
       "      <td>₹349</td>\n",
       "      <td>43%</td>\n",
       "      <td>4.0</td>\n",
       "      <td>43,994</td>\n",
       "      <td>Compatible with all Type C enabled devices, be...</td>\n",
       "      <td>AECPFYFQVRUWC3KGNLJIOREFP5LQ,AGYYVPDD7YG7FYNBX...</td>\n",
       "      <td>ArdKn,Nirbhay kumar,Sagar Viswanathan,Asp,Plac...</td>\n",
       "      <td>RGIQEG07R9HS2,R1SMWZQ86XIN8U,R2J3Y1WL29GWDE,RY...</td>\n",
       "      <td>A Good Braided Cable for Your Type C Device,Go...</td>\n",
       "      <td>I ordered this cable to connect my phone to An...</td>\n",
       "      <td>https://m.media-amazon.com/images/W/WEBP_40237...</td>\n",
       "      <td>https://www.amazon.in/Ambrane-Unbreakable-Char...</td>\n",
       "    </tr>\n",
       "    <tr>\n",
       "      <th>2</th>\n",
       "      <td>B096MSW6CT</td>\n",
       "      <td>Sounce Fast Phone Charging Cable &amp; Data Sync U...</td>\n",
       "      <td>Computers&amp;Accessories|Accessories&amp;Peripherals|...</td>\n",
       "      <td>₹199</td>\n",
       "      <td>₹1,899</td>\n",
       "      <td>90%</td>\n",
       "      <td>3.9</td>\n",
       "      <td>7,928</td>\n",
       "      <td>【 Fast Charger&amp; Data Sync】-With built-in safet...</td>\n",
       "      <td>AGU3BBQ2V2DDAMOAKGFAWDDQ6QHA,AESFLDV2PT363T2AQ...</td>\n",
       "      <td>Kunal,Himanshu,viswanath,sai niharka,saqib mal...</td>\n",
       "      <td>R3J3EQQ9TZI5ZJ,R3E7WBGK7ID0KV,RWU79XKQ6I1QF,R2...</td>\n",
       "      <td>Good speed for earlier versions,Good Product,W...</td>\n",
       "      <td>Not quite durable and sturdy,https://m.media-a...</td>\n",
       "      <td>https://m.media-amazon.com/images/W/WEBP_40237...</td>\n",
       "      <td>https://www.amazon.in/Sounce-iPhone-Charging-C...</td>\n",
       "    </tr>\n",
       "    <tr>\n",
       "      <th>3</th>\n",
       "      <td>B08HDJ86NZ</td>\n",
       "      <td>boAt Deuce USB 300 2 in 1 Type-C &amp; Micro USB S...</td>\n",
       "      <td>Computers&amp;Accessories|Accessories&amp;Peripherals|...</td>\n",
       "      <td>₹329</td>\n",
       "      <td>₹699</td>\n",
       "      <td>53%</td>\n",
       "      <td>4.2</td>\n",
       "      <td>94,363</td>\n",
       "      <td>The boAt Deuce USB 300 2 in 1 cable is compati...</td>\n",
       "      <td>AEWAZDZZJLQUYVOVGBEUKSLXHQ5A,AG5HTSFRRE6NL3M5S...</td>\n",
       "      <td>Omkar dhale,JD,HEMALATHA,Ajwadh a.,amar singh ...</td>\n",
       "      <td>R3EEUZKKK9J36I,R3HJVYCLYOY554,REDECAZ7AMPQC,R1...</td>\n",
       "      <td>Good product,Good one,Nice,Really nice product...</td>\n",
       "      <td>Good product,long wire,Charges good,Nice,I bou...</td>\n",
       "      <td>https://m.media-amazon.com/images/I/41V5FtEWPk...</td>\n",
       "      <td>https://www.amazon.in/Deuce-300-Resistant-Tang...</td>\n",
       "    </tr>\n",
       "    <tr>\n",
       "      <th>4</th>\n",
       "      <td>B08CF3B7N1</td>\n",
       "      <td>Portronics Konnect L 1.2M Fast Charging 3A 8 P...</td>\n",
       "      <td>Computers&amp;Accessories|Accessories&amp;Peripherals|...</td>\n",
       "      <td>₹154</td>\n",
       "      <td>₹399</td>\n",
       "      <td>61%</td>\n",
       "      <td>4.2</td>\n",
       "      <td>16,905</td>\n",
       "      <td>[CHARGE &amp; SYNC FUNCTION]- This cable comes wit...</td>\n",
       "      <td>AE3Q6KSUK5P75D5HFYHCRAOLODSA,AFUGIFH5ZAFXRDSZH...</td>\n",
       "      <td>rahuls6099,Swasat Borah,Ajay Wadke,Pranali,RVK...</td>\n",
       "      <td>R1BP4L2HH9TFUP,R16PVJEXKV6QZS,R2UPDB81N66T4P,R...</td>\n",
       "      <td>As good as original,Decent,Good one for second...</td>\n",
       "      <td>Bought this instead of original apple, does th...</td>\n",
       "      <td>https://m.media-amazon.com/images/W/WEBP_40237...</td>\n",
       "      <td>https://www.amazon.in/Portronics-Konnect-POR-1...</td>\n",
       "    </tr>\n",
       "  </tbody>\n",
       "</table>\n",
       "</div>"
      ],
      "text/plain": [
       "   product_id                                       product_name  \\\n",
       "0  B07JW9H4J1  Wayona Nylon Braided USB to Lightning Fast Cha...   \n",
       "1  B098NS6PVG  Ambrane Unbreakable 60W / 3A Fast Charging 1.5...   \n",
       "2  B096MSW6CT  Sounce Fast Phone Charging Cable & Data Sync U...   \n",
       "3  B08HDJ86NZ  boAt Deuce USB 300 2 in 1 Type-C & Micro USB S...   \n",
       "4  B08CF3B7N1  Portronics Konnect L 1.2M Fast Charging 3A 8 P...   \n",
       "\n",
       "                                            category discounted_price  \\\n",
       "0  Computers&Accessories|Accessories&Peripherals|...             ₹399   \n",
       "1  Computers&Accessories|Accessories&Peripherals|...             ₹199   \n",
       "2  Computers&Accessories|Accessories&Peripherals|...             ₹199   \n",
       "3  Computers&Accessories|Accessories&Peripherals|...             ₹329   \n",
       "4  Computers&Accessories|Accessories&Peripherals|...             ₹154   \n",
       "\n",
       "  actual_price discount_percentage rating rating_count  \\\n",
       "0       ₹1,099                 64%    4.2       24,269   \n",
       "1         ₹349                 43%    4.0       43,994   \n",
       "2       ₹1,899                 90%    3.9        7,928   \n",
       "3         ₹699                 53%    4.2       94,363   \n",
       "4         ₹399                 61%    4.2       16,905   \n",
       "\n",
       "                                       about_product  \\\n",
       "0  High Compatibility : Compatible With iPhone 12...   \n",
       "1  Compatible with all Type C enabled devices, be...   \n",
       "2  【 Fast Charger& Data Sync】-With built-in safet...   \n",
       "3  The boAt Deuce USB 300 2 in 1 cable is compati...   \n",
       "4  [CHARGE & SYNC FUNCTION]- This cable comes wit...   \n",
       "\n",
       "                                             user_id  \\\n",
       "0  AG3D6O4STAQKAY2UVGEUV46KN35Q,AHMY5CWJMMK5BJRBB...   \n",
       "1  AECPFYFQVRUWC3KGNLJIOREFP5LQ,AGYYVPDD7YG7FYNBX...   \n",
       "2  AGU3BBQ2V2DDAMOAKGFAWDDQ6QHA,AESFLDV2PT363T2AQ...   \n",
       "3  AEWAZDZZJLQUYVOVGBEUKSLXHQ5A,AG5HTSFRRE6NL3M5S...   \n",
       "4  AE3Q6KSUK5P75D5HFYHCRAOLODSA,AFUGIFH5ZAFXRDSZH...   \n",
       "\n",
       "                                           user_name  \\\n",
       "0  Manav,Adarsh gupta,Sundeep,S.Sayeed Ahmed,jasp...   \n",
       "1  ArdKn,Nirbhay kumar,Sagar Viswanathan,Asp,Plac...   \n",
       "2  Kunal,Himanshu,viswanath,sai niharka,saqib mal...   \n",
       "3  Omkar dhale,JD,HEMALATHA,Ajwadh a.,amar singh ...   \n",
       "4  rahuls6099,Swasat Borah,Ajay Wadke,Pranali,RVK...   \n",
       "\n",
       "                                           review_id  \\\n",
       "0  R3HXWT0LRP0NMF,R2AJM3LFTLZHFO,R6AQJGUP6P86,R1K...   \n",
       "1  RGIQEG07R9HS2,R1SMWZQ86XIN8U,R2J3Y1WL29GWDE,RY...   \n",
       "2  R3J3EQQ9TZI5ZJ,R3E7WBGK7ID0KV,RWU79XKQ6I1QF,R2...   \n",
       "3  R3EEUZKKK9J36I,R3HJVYCLYOY554,REDECAZ7AMPQC,R1...   \n",
       "4  R1BP4L2HH9TFUP,R16PVJEXKV6QZS,R2UPDB81N66T4P,R...   \n",
       "\n",
       "                                        review_title  \\\n",
       "0  Satisfied,Charging is really fast,Value for mo...   \n",
       "1  A Good Braided Cable for Your Type C Device,Go...   \n",
       "2  Good speed for earlier versions,Good Product,W...   \n",
       "3  Good product,Good one,Nice,Really nice product...   \n",
       "4  As good as original,Decent,Good one for second...   \n",
       "\n",
       "                                      review_content  \\\n",
       "0  Looks durable Charging is fine tooNo complains...   \n",
       "1  I ordered this cable to connect my phone to An...   \n",
       "2  Not quite durable and sturdy,https://m.media-a...   \n",
       "3  Good product,long wire,Charges good,Nice,I bou...   \n",
       "4  Bought this instead of original apple, does th...   \n",
       "\n",
       "                                            img_link  \\\n",
       "0  https://m.media-amazon.com/images/W/WEBP_40237...   \n",
       "1  https://m.media-amazon.com/images/W/WEBP_40237...   \n",
       "2  https://m.media-amazon.com/images/W/WEBP_40237...   \n",
       "3  https://m.media-amazon.com/images/I/41V5FtEWPk...   \n",
       "4  https://m.media-amazon.com/images/W/WEBP_40237...   \n",
       "\n",
       "                                        product_link  \n",
       "0  https://www.amazon.in/Wayona-Braided-WN3LG1-Sy...  \n",
       "1  https://www.amazon.in/Ambrane-Unbreakable-Char...  \n",
       "2  https://www.amazon.in/Sounce-iPhone-Charging-C...  \n",
       "3  https://www.amazon.in/Deuce-300-Resistant-Tang...  \n",
       "4  https://www.amazon.in/Portronics-Konnect-POR-1...  "
      ]
     },
     "execution_count": 189,
     "metadata": {},
     "output_type": "execute_result"
    }
   ],
   "source": [
    "df.head()"
   ]
  },
  {
   "cell_type": "markdown",
   "id": "ff9a509b-cebd-43ab-a949-4e3601c79e4a",
   "metadata": {},
   "source": [
    "# Organzing Columns"
   ]
  },
  {
   "cell_type": "markdown",
   "id": "50ab689e-9730-4d36-b614-c7f8cddee45f",
   "metadata": {},
   "source": [
    "### Droping the unnecessary columns"
   ]
  },
  {
   "cell_type": "code",
   "execution_count": 190,
   "id": "acbf8f15-44f0-47c9-9996-f8dc6574963c",
   "metadata": {},
   "outputs": [
    {
     "data": {
      "text/html": [
       "<div>\n",
       "<style scoped>\n",
       "    .dataframe tbody tr th:only-of-type {\n",
       "        vertical-align: middle;\n",
       "    }\n",
       "\n",
       "    .dataframe tbody tr th {\n",
       "        vertical-align: top;\n",
       "    }\n",
       "\n",
       "    .dataframe thead th {\n",
       "        text-align: right;\n",
       "    }\n",
       "</style>\n",
       "<table border=\"1\" class=\"dataframe\">\n",
       "  <thead>\n",
       "    <tr style=\"text-align: right;\">\n",
       "      <th></th>\n",
       "      <th>product_name</th>\n",
       "      <th>category</th>\n",
       "      <th>discounted_price</th>\n",
       "      <th>actual_price</th>\n",
       "      <th>discount_percentage</th>\n",
       "      <th>rating</th>\n",
       "      <th>rating_count</th>\n",
       "    </tr>\n",
       "  </thead>\n",
       "  <tbody>\n",
       "    <tr>\n",
       "      <th>0</th>\n",
       "      <td>Wayona Nylon Braided USB to Lightning Fast Cha...</td>\n",
       "      <td>Computers&amp;Accessories|Accessories&amp;Peripherals|...</td>\n",
       "      <td>₹399</td>\n",
       "      <td>₹1,099</td>\n",
       "      <td>64%</td>\n",
       "      <td>4.2</td>\n",
       "      <td>24,269</td>\n",
       "    </tr>\n",
       "    <tr>\n",
       "      <th>1</th>\n",
       "      <td>Ambrane Unbreakable 60W / 3A Fast Charging 1.5...</td>\n",
       "      <td>Computers&amp;Accessories|Accessories&amp;Peripherals|...</td>\n",
       "      <td>₹199</td>\n",
       "      <td>₹349</td>\n",
       "      <td>43%</td>\n",
       "      <td>4.0</td>\n",
       "      <td>43,994</td>\n",
       "    </tr>\n",
       "    <tr>\n",
       "      <th>2</th>\n",
       "      <td>Sounce Fast Phone Charging Cable &amp; Data Sync U...</td>\n",
       "      <td>Computers&amp;Accessories|Accessories&amp;Peripherals|...</td>\n",
       "      <td>₹199</td>\n",
       "      <td>₹1,899</td>\n",
       "      <td>90%</td>\n",
       "      <td>3.9</td>\n",
       "      <td>7,928</td>\n",
       "    </tr>\n",
       "    <tr>\n",
       "      <th>3</th>\n",
       "      <td>boAt Deuce USB 300 2 in 1 Type-C &amp; Micro USB S...</td>\n",
       "      <td>Computers&amp;Accessories|Accessories&amp;Peripherals|...</td>\n",
       "      <td>₹329</td>\n",
       "      <td>₹699</td>\n",
       "      <td>53%</td>\n",
       "      <td>4.2</td>\n",
       "      <td>94,363</td>\n",
       "    </tr>\n",
       "    <tr>\n",
       "      <th>4</th>\n",
       "      <td>Portronics Konnect L 1.2M Fast Charging 3A 8 P...</td>\n",
       "      <td>Computers&amp;Accessories|Accessories&amp;Peripherals|...</td>\n",
       "      <td>₹154</td>\n",
       "      <td>₹399</td>\n",
       "      <td>61%</td>\n",
       "      <td>4.2</td>\n",
       "      <td>16,905</td>\n",
       "    </tr>\n",
       "  </tbody>\n",
       "</table>\n",
       "</div>"
      ],
      "text/plain": [
       "                                        product_name  \\\n",
       "0  Wayona Nylon Braided USB to Lightning Fast Cha...   \n",
       "1  Ambrane Unbreakable 60W / 3A Fast Charging 1.5...   \n",
       "2  Sounce Fast Phone Charging Cable & Data Sync U...   \n",
       "3  boAt Deuce USB 300 2 in 1 Type-C & Micro USB S...   \n",
       "4  Portronics Konnect L 1.2M Fast Charging 3A 8 P...   \n",
       "\n",
       "                                            category discounted_price  \\\n",
       "0  Computers&Accessories|Accessories&Peripherals|...             ₹399   \n",
       "1  Computers&Accessories|Accessories&Peripherals|...             ₹199   \n",
       "2  Computers&Accessories|Accessories&Peripherals|...             ₹199   \n",
       "3  Computers&Accessories|Accessories&Peripherals|...             ₹329   \n",
       "4  Computers&Accessories|Accessories&Peripherals|...             ₹154   \n",
       "\n",
       "  actual_price discount_percentage rating rating_count  \n",
       "0       ₹1,099                 64%    4.2       24,269  \n",
       "1         ₹349                 43%    4.0       43,994  \n",
       "2       ₹1,899                 90%    3.9        7,928  \n",
       "3         ₹699                 53%    4.2       94,363  \n",
       "4         ₹399                 61%    4.2       16,905  "
      ]
     },
     "execution_count": 190,
     "metadata": {},
     "output_type": "execute_result"
    }
   ],
   "source": [
    "df = df.drop(['about_product', 'review_content', 'review_title', 'img_link', 'product_link', 'review_id',\n",
    "'product_id', 'user_name', 'user_id'], axis=1)\n",
    "\n",
    "df.head()"
   ]
  },
  {
   "cell_type": "code",
   "execution_count": 191,
   "id": "d4d42219-3728-43cb-b2ce-089940b0b589",
   "metadata": {},
   "outputs": [],
   "source": [
    "df['product_type'] = df['category'].str.split('|').str.get(-1)"
   ]
  },
  {
   "cell_type": "code",
   "execution_count": 192,
   "id": "77b8a522-3b4e-4648-b844-c4c3b39aa7a6",
   "metadata": {},
   "outputs": [
    {
     "data": {
      "text/html": [
       "<div>\n",
       "<style scoped>\n",
       "    .dataframe tbody tr th:only-of-type {\n",
       "        vertical-align: middle;\n",
       "    }\n",
       "\n",
       "    .dataframe tbody tr th {\n",
       "        vertical-align: top;\n",
       "    }\n",
       "\n",
       "    .dataframe thead th {\n",
       "        text-align: right;\n",
       "    }\n",
       "</style>\n",
       "<table border=\"1\" class=\"dataframe\">\n",
       "  <thead>\n",
       "    <tr style=\"text-align: right;\">\n",
       "      <th></th>\n",
       "      <th>product_name</th>\n",
       "      <th>category</th>\n",
       "      <th>discounted_price</th>\n",
       "      <th>actual_price</th>\n",
       "      <th>discount_percentage</th>\n",
       "      <th>rating</th>\n",
       "      <th>rating_count</th>\n",
       "      <th>product_type</th>\n",
       "    </tr>\n",
       "  </thead>\n",
       "  <tbody>\n",
       "    <tr>\n",
       "      <th>0</th>\n",
       "      <td>Wayona Nylon Braided USB to Lightning Fast Cha...</td>\n",
       "      <td>Computers&amp;Accessories|Accessories&amp;Peripherals|...</td>\n",
       "      <td>₹399</td>\n",
       "      <td>₹1,099</td>\n",
       "      <td>64%</td>\n",
       "      <td>4.2</td>\n",
       "      <td>24,269</td>\n",
       "      <td>USBCables</td>\n",
       "    </tr>\n",
       "    <tr>\n",
       "      <th>1</th>\n",
       "      <td>Ambrane Unbreakable 60W / 3A Fast Charging 1.5...</td>\n",
       "      <td>Computers&amp;Accessories|Accessories&amp;Peripherals|...</td>\n",
       "      <td>₹199</td>\n",
       "      <td>₹349</td>\n",
       "      <td>43%</td>\n",
       "      <td>4.0</td>\n",
       "      <td>43,994</td>\n",
       "      <td>USBCables</td>\n",
       "    </tr>\n",
       "    <tr>\n",
       "      <th>2</th>\n",
       "      <td>Sounce Fast Phone Charging Cable &amp; Data Sync U...</td>\n",
       "      <td>Computers&amp;Accessories|Accessories&amp;Peripherals|...</td>\n",
       "      <td>₹199</td>\n",
       "      <td>₹1,899</td>\n",
       "      <td>90%</td>\n",
       "      <td>3.9</td>\n",
       "      <td>7,928</td>\n",
       "      <td>USBCables</td>\n",
       "    </tr>\n",
       "    <tr>\n",
       "      <th>3</th>\n",
       "      <td>boAt Deuce USB 300 2 in 1 Type-C &amp; Micro USB S...</td>\n",
       "      <td>Computers&amp;Accessories|Accessories&amp;Peripherals|...</td>\n",
       "      <td>₹329</td>\n",
       "      <td>₹699</td>\n",
       "      <td>53%</td>\n",
       "      <td>4.2</td>\n",
       "      <td>94,363</td>\n",
       "      <td>USBCables</td>\n",
       "    </tr>\n",
       "    <tr>\n",
       "      <th>4</th>\n",
       "      <td>Portronics Konnect L 1.2M Fast Charging 3A 8 P...</td>\n",
       "      <td>Computers&amp;Accessories|Accessories&amp;Peripherals|...</td>\n",
       "      <td>₹154</td>\n",
       "      <td>₹399</td>\n",
       "      <td>61%</td>\n",
       "      <td>4.2</td>\n",
       "      <td>16,905</td>\n",
       "      <td>USBCables</td>\n",
       "    </tr>\n",
       "  </tbody>\n",
       "</table>\n",
       "</div>"
      ],
      "text/plain": [
       "                                        product_name  \\\n",
       "0  Wayona Nylon Braided USB to Lightning Fast Cha...   \n",
       "1  Ambrane Unbreakable 60W / 3A Fast Charging 1.5...   \n",
       "2  Sounce Fast Phone Charging Cable & Data Sync U...   \n",
       "3  boAt Deuce USB 300 2 in 1 Type-C & Micro USB S...   \n",
       "4  Portronics Konnect L 1.2M Fast Charging 3A 8 P...   \n",
       "\n",
       "                                            category discounted_price  \\\n",
       "0  Computers&Accessories|Accessories&Peripherals|...             ₹399   \n",
       "1  Computers&Accessories|Accessories&Peripherals|...             ₹199   \n",
       "2  Computers&Accessories|Accessories&Peripherals|...             ₹199   \n",
       "3  Computers&Accessories|Accessories&Peripherals|...             ₹329   \n",
       "4  Computers&Accessories|Accessories&Peripherals|...             ₹154   \n",
       "\n",
       "  actual_price discount_percentage rating rating_count product_type  \n",
       "0       ₹1,099                 64%    4.2       24,269    USBCables  \n",
       "1         ₹349                 43%    4.0       43,994    USBCables  \n",
       "2       ₹1,899                 90%    3.9        7,928    USBCables  \n",
       "3         ₹699                 53%    4.2       94,363    USBCables  \n",
       "4         ₹399                 61%    4.2       16,905    USBCables  "
      ]
     },
     "execution_count": 192,
     "metadata": {},
     "output_type": "execute_result"
    }
   ],
   "source": [
    "df.head()"
   ]
  },
  {
   "cell_type": "code",
   "execution_count": 193,
   "id": "992bd055-64b0-4a29-a262-df0561ef02d5",
   "metadata": {},
   "outputs": [],
   "source": [
    "df['category'] = df['category'].str.split(\"|\").str.get(0)"
   ]
  },
  {
   "cell_type": "code",
   "execution_count": 194,
   "id": "81bc989d-d1d5-4e8e-a4e8-cf903d9bb2d9",
   "metadata": {},
   "outputs": [
    {
     "data": {
      "text/html": [
       "<div>\n",
       "<style scoped>\n",
       "    .dataframe tbody tr th:only-of-type {\n",
       "        vertical-align: middle;\n",
       "    }\n",
       "\n",
       "    .dataframe tbody tr th {\n",
       "        vertical-align: top;\n",
       "    }\n",
       "\n",
       "    .dataframe thead th {\n",
       "        text-align: right;\n",
       "    }\n",
       "</style>\n",
       "<table border=\"1\" class=\"dataframe\">\n",
       "  <thead>\n",
       "    <tr style=\"text-align: right;\">\n",
       "      <th></th>\n",
       "      <th>product_name</th>\n",
       "      <th>category</th>\n",
       "      <th>discounted_price</th>\n",
       "      <th>actual_price</th>\n",
       "      <th>discount_percentage</th>\n",
       "      <th>rating</th>\n",
       "      <th>rating_count</th>\n",
       "      <th>product_type</th>\n",
       "    </tr>\n",
       "  </thead>\n",
       "  <tbody>\n",
       "    <tr>\n",
       "      <th>0</th>\n",
       "      <td>Wayona Nylon Braided USB to Lightning Fast Cha...</td>\n",
       "      <td>Computers&amp;Accessories</td>\n",
       "      <td>₹399</td>\n",
       "      <td>₹1,099</td>\n",
       "      <td>64%</td>\n",
       "      <td>4.2</td>\n",
       "      <td>24,269</td>\n",
       "      <td>USBCables</td>\n",
       "    </tr>\n",
       "    <tr>\n",
       "      <th>1</th>\n",
       "      <td>Ambrane Unbreakable 60W / 3A Fast Charging 1.5...</td>\n",
       "      <td>Computers&amp;Accessories</td>\n",
       "      <td>₹199</td>\n",
       "      <td>₹349</td>\n",
       "      <td>43%</td>\n",
       "      <td>4.0</td>\n",
       "      <td>43,994</td>\n",
       "      <td>USBCables</td>\n",
       "    </tr>\n",
       "    <tr>\n",
       "      <th>2</th>\n",
       "      <td>Sounce Fast Phone Charging Cable &amp; Data Sync U...</td>\n",
       "      <td>Computers&amp;Accessories</td>\n",
       "      <td>₹199</td>\n",
       "      <td>₹1,899</td>\n",
       "      <td>90%</td>\n",
       "      <td>3.9</td>\n",
       "      <td>7,928</td>\n",
       "      <td>USBCables</td>\n",
       "    </tr>\n",
       "    <tr>\n",
       "      <th>3</th>\n",
       "      <td>boAt Deuce USB 300 2 in 1 Type-C &amp; Micro USB S...</td>\n",
       "      <td>Computers&amp;Accessories</td>\n",
       "      <td>₹329</td>\n",
       "      <td>₹699</td>\n",
       "      <td>53%</td>\n",
       "      <td>4.2</td>\n",
       "      <td>94,363</td>\n",
       "      <td>USBCables</td>\n",
       "    </tr>\n",
       "    <tr>\n",
       "      <th>4</th>\n",
       "      <td>Portronics Konnect L 1.2M Fast Charging 3A 8 P...</td>\n",
       "      <td>Computers&amp;Accessories</td>\n",
       "      <td>₹154</td>\n",
       "      <td>₹399</td>\n",
       "      <td>61%</td>\n",
       "      <td>4.2</td>\n",
       "      <td>16,905</td>\n",
       "      <td>USBCables</td>\n",
       "    </tr>\n",
       "  </tbody>\n",
       "</table>\n",
       "</div>"
      ],
      "text/plain": [
       "                                        product_name               category  \\\n",
       "0  Wayona Nylon Braided USB to Lightning Fast Cha...  Computers&Accessories   \n",
       "1  Ambrane Unbreakable 60W / 3A Fast Charging 1.5...  Computers&Accessories   \n",
       "2  Sounce Fast Phone Charging Cable & Data Sync U...  Computers&Accessories   \n",
       "3  boAt Deuce USB 300 2 in 1 Type-C & Micro USB S...  Computers&Accessories   \n",
       "4  Portronics Konnect L 1.2M Fast Charging 3A 8 P...  Computers&Accessories   \n",
       "\n",
       "  discounted_price actual_price discount_percentage rating rating_count  \\\n",
       "0             ₹399       ₹1,099                 64%    4.2       24,269   \n",
       "1             ₹199         ₹349                 43%    4.0       43,994   \n",
       "2             ₹199       ₹1,899                 90%    3.9        7,928   \n",
       "3             ₹329         ₹699                 53%    4.2       94,363   \n",
       "4             ₹154         ₹399                 61%    4.2       16,905   \n",
       "\n",
       "  product_type  \n",
       "0    USBCables  \n",
       "1    USBCables  \n",
       "2    USBCables  \n",
       "3    USBCables  \n",
       "4    USBCables  "
      ]
     },
     "execution_count": 194,
     "metadata": {},
     "output_type": "execute_result"
    }
   ],
   "source": [
    "df.head()"
   ]
  },
  {
   "cell_type": "code",
   "execution_count": 195,
   "id": "b4708790-0c22-4334-9abf-09c2b7a4dc08",
   "metadata": {},
   "outputs": [],
   "source": [
    "df['discounted_price'] = df['discounted_price'].str.replace(\"₹\", \"\")\n",
    "df['discounted_price'] = df['discounted_price'].str.replace(\",\",\"\")"
   ]
  },
  {
   "cell_type": "code",
   "execution_count": 196,
   "id": "02198554-bf12-4bc9-be10-36c7c0a2d6f0",
   "metadata": {},
   "outputs": [],
   "source": [
    "df['actual_price'] = df['actual_price'].str.replace(\"₹\",\"\")\n",
    "df['actual_price'] = df['actual_price'].str.replace(\",\",\"\")"
   ]
  },
  {
   "cell_type": "code",
   "execution_count": 197,
   "id": "d9dbccdb-9d4b-414c-9b7f-307ca45c0726",
   "metadata": {},
   "outputs": [
    {
     "data": {
      "text/html": [
       "<div>\n",
       "<style scoped>\n",
       "    .dataframe tbody tr th:only-of-type {\n",
       "        vertical-align: middle;\n",
       "    }\n",
       "\n",
       "    .dataframe tbody tr th {\n",
       "        vertical-align: top;\n",
       "    }\n",
       "\n",
       "    .dataframe thead th {\n",
       "        text-align: right;\n",
       "    }\n",
       "</style>\n",
       "<table border=\"1\" class=\"dataframe\">\n",
       "  <thead>\n",
       "    <tr style=\"text-align: right;\">\n",
       "      <th></th>\n",
       "      <th>product_name</th>\n",
       "      <th>category</th>\n",
       "      <th>discounted_price</th>\n",
       "      <th>actual_price</th>\n",
       "      <th>discount_percentage</th>\n",
       "      <th>rating</th>\n",
       "      <th>rating_count</th>\n",
       "      <th>product_type</th>\n",
       "    </tr>\n",
       "  </thead>\n",
       "  <tbody>\n",
       "    <tr>\n",
       "      <th>0</th>\n",
       "      <td>Wayona Nylon Braided USB to Lightning Fast Cha...</td>\n",
       "      <td>Computers&amp;Accessories</td>\n",
       "      <td>399</td>\n",
       "      <td>1099</td>\n",
       "      <td>64%</td>\n",
       "      <td>4.2</td>\n",
       "      <td>24,269</td>\n",
       "      <td>USBCables</td>\n",
       "    </tr>\n",
       "    <tr>\n",
       "      <th>1</th>\n",
       "      <td>Ambrane Unbreakable 60W / 3A Fast Charging 1.5...</td>\n",
       "      <td>Computers&amp;Accessories</td>\n",
       "      <td>199</td>\n",
       "      <td>349</td>\n",
       "      <td>43%</td>\n",
       "      <td>4.0</td>\n",
       "      <td>43,994</td>\n",
       "      <td>USBCables</td>\n",
       "    </tr>\n",
       "    <tr>\n",
       "      <th>2</th>\n",
       "      <td>Sounce Fast Phone Charging Cable &amp; Data Sync U...</td>\n",
       "      <td>Computers&amp;Accessories</td>\n",
       "      <td>199</td>\n",
       "      <td>1899</td>\n",
       "      <td>90%</td>\n",
       "      <td>3.9</td>\n",
       "      <td>7,928</td>\n",
       "      <td>USBCables</td>\n",
       "    </tr>\n",
       "    <tr>\n",
       "      <th>3</th>\n",
       "      <td>boAt Deuce USB 300 2 in 1 Type-C &amp; Micro USB S...</td>\n",
       "      <td>Computers&amp;Accessories</td>\n",
       "      <td>329</td>\n",
       "      <td>699</td>\n",
       "      <td>53%</td>\n",
       "      <td>4.2</td>\n",
       "      <td>94,363</td>\n",
       "      <td>USBCables</td>\n",
       "    </tr>\n",
       "    <tr>\n",
       "      <th>4</th>\n",
       "      <td>Portronics Konnect L 1.2M Fast Charging 3A 8 P...</td>\n",
       "      <td>Computers&amp;Accessories</td>\n",
       "      <td>154</td>\n",
       "      <td>399</td>\n",
       "      <td>61%</td>\n",
       "      <td>4.2</td>\n",
       "      <td>16,905</td>\n",
       "      <td>USBCables</td>\n",
       "    </tr>\n",
       "  </tbody>\n",
       "</table>\n",
       "</div>"
      ],
      "text/plain": [
       "                                        product_name               category  \\\n",
       "0  Wayona Nylon Braided USB to Lightning Fast Cha...  Computers&Accessories   \n",
       "1  Ambrane Unbreakable 60W / 3A Fast Charging 1.5...  Computers&Accessories   \n",
       "2  Sounce Fast Phone Charging Cable & Data Sync U...  Computers&Accessories   \n",
       "3  boAt Deuce USB 300 2 in 1 Type-C & Micro USB S...  Computers&Accessories   \n",
       "4  Portronics Konnect L 1.2M Fast Charging 3A 8 P...  Computers&Accessories   \n",
       "\n",
       "  discounted_price actual_price discount_percentage rating rating_count  \\\n",
       "0              399         1099                 64%    4.2       24,269   \n",
       "1              199          349                 43%    4.0       43,994   \n",
       "2              199         1899                 90%    3.9        7,928   \n",
       "3              329          699                 53%    4.2       94,363   \n",
       "4              154          399                 61%    4.2       16,905   \n",
       "\n",
       "  product_type  \n",
       "0    USBCables  \n",
       "1    USBCables  \n",
       "2    USBCables  \n",
       "3    USBCables  \n",
       "4    USBCables  "
      ]
     },
     "execution_count": 197,
     "metadata": {},
     "output_type": "execute_result"
    }
   ],
   "source": [
    "df.head()"
   ]
  },
  {
   "cell_type": "code",
   "execution_count": 198,
   "id": "21180063-6cec-4952-81bb-2de4bf00c37e",
   "metadata": {},
   "outputs": [],
   "source": [
    "df['id'] = df.index"
   ]
  },
  {
   "cell_type": "code",
   "execution_count": 199,
   "id": "e8f5b9ac-4633-47b4-abe3-4f1f228382f2",
   "metadata": {},
   "outputs": [
    {
     "data": {
      "text/plain": [
       "product_name           object\n",
       "category               object\n",
       "discounted_price       object\n",
       "actual_price           object\n",
       "discount_percentage    object\n",
       "rating                 object\n",
       "rating_count           object\n",
       "product_type           object\n",
       "id                      int64\n",
       "dtype: object"
      ]
     },
     "execution_count": 199,
     "metadata": {},
     "output_type": "execute_result"
    }
   ],
   "source": [
    "df.dtypes"
   ]
  },
  {
   "cell_type": "markdown",
   "id": "c455ae6e-86f7-4693-ad8b-548503d184af",
   "metadata": {},
   "source": [
    "### Convert the 'discounted_price' column to decimal value"
   ]
  },
  {
   "cell_type": "code",
   "execution_count": 239,
   "id": "4acef0c5-2200-412a-a58b-500b82a180ee",
   "metadata": {},
   "outputs": [],
   "source": [
    "df.discounted_price = df.discounted_price.str.split(\".\").str.get(0) + \".\" + \\\n",
    "                      df.discounted_price.str.split(\".\").str.get(1).fillna(\"0\")"
   ]
  },
  {
   "cell_type": "code",
   "execution_count": 240,
   "id": "cdc74872-14fc-4c5f-b5f9-25e320b6d116",
   "metadata": {},
   "outputs": [],
   "source": [
    "df.discounted_price = df.discounted_price.astype(float)"
   ]
  },
  {
   "cell_type": "markdown",
   "id": "ccaef764-507c-46ca-8c17-2b5fa7d7d7c4",
   "metadata": {},
   "source": [
    "### Column 'actual_price'"
   ]
  },
  {
   "cell_type": "code",
   "execution_count": 202,
   "id": "4a4dd22e-c6cc-425b-80ec-776abcf5ea3c",
   "metadata": {},
   "outputs": [],
   "source": [
    "df.actual_price = df.actual_price.str.split(\".\").str.get(0) + \".\" + \\\n",
    "                      df.actual_price.str.split(\".\").str.get(1).fillna(\"0\")"
   ]
  },
  {
   "cell_type": "code",
   "execution_count": 203,
   "id": "bd7007c0-44e9-4930-b885-c18f81bee84a",
   "metadata": {},
   "outputs": [],
   "source": [
    "df.actual_price = df.actual_price.astype(float)"
   ]
  },
  {
   "cell_type": "markdown",
   "id": "ec321b7d-f2b7-4dae-94ab-cc11f29f1d49",
   "metadata": {},
   "source": [
    "### Column 'rating' "
   ]
  },
  {
   "cell_type": "code",
   "execution_count": 204,
   "id": "83215189-d1cd-46d8-b23e-2ecec0416211",
   "metadata": {},
   "outputs": [],
   "source": [
    "df.rating = df.rating.str.replace(\"|\", \"NaN\")"
   ]
  },
  {
   "cell_type": "code",
   "execution_count": 205,
   "id": "cb3e201d-3713-471b-b8c2-1b6d3ec1b394",
   "metadata": {},
   "outputs": [],
   "source": [
    "df['rating'] = df['rating'].replace(\",\", \".\")"
   ]
  },
  {
   "cell_type": "code",
   "execution_count": 206,
   "id": "242da339-e51a-4b64-8449-6685df585054",
   "metadata": {},
   "outputs": [],
   "source": [
    "df.rating = df.rating.astype(float)"
   ]
  },
  {
   "cell_type": "markdown",
   "id": "cb8a941f-9de0-4440-ae45-4159a6bed1a3",
   "metadata": {},
   "source": [
    "### Column 'rating_count'"
   ]
  },
  {
   "cell_type": "code",
   "execution_count": 207,
   "id": "cdaa48a4-7bef-449d-a281-97bcc3964aad",
   "metadata": {},
   "outputs": [],
   "source": [
    "df['rating_count'] = df['rating_count'].str.replace(\",\", \".\")"
   ]
  },
  {
   "cell_type": "code",
   "execution_count": 208,
   "id": "6d69ded9-3fce-4318-89bb-91a530a9921b",
   "metadata": {},
   "outputs": [],
   "source": [
    "df.rating_count = df.rating_count.str.split(\".\").str.get(0) + \".\" + \\\n",
    "                    df.rating_count.str.split(\".\").str.get(1).fillna('0')"
   ]
  },
  {
   "cell_type": "code",
   "execution_count": 209,
   "id": "b7ec6b01-eaa2-4f9f-8350-9afa3cd04dbe",
   "metadata": {},
   "outputs": [],
   "source": [
    "df.rating_count = df.rating_count.astype(float)"
   ]
  },
  {
   "cell_type": "code",
   "execution_count": 210,
   "id": "24d151e0-6f5f-436a-af56-cd0f3e0626a7",
   "metadata": {},
   "outputs": [
    {
     "data": {
      "text/plain": [
       "count    1463.000000\n",
       "mean       89.144526\n",
       "std       188.402956\n",
       "min         1.001000\n",
       "25%         3.687000\n",
       "50%        12.966000\n",
       "75%        45.115500\n",
       "max       992.000000\n",
       "Name: rating_count, dtype: float64"
      ]
     },
     "execution_count": 210,
     "metadata": {},
     "output_type": "execute_result"
    }
   ],
   "source": [
    "df.rating_count.describe()"
   ]
  },
  {
   "cell_type": "markdown",
   "id": "b2561b46-4014-45bc-be2b-9515be600c0e",
   "metadata": {},
   "source": [
    "### \n",
    "\n",
    "### Creating mean_of_ratings column with cut() function"
   ]
  },
  {
   "cell_type": "code",
   "execution_count": 211,
   "id": "72dbfb6b-a76e-4874-b8b0-d8ce84900469",
   "metadata": {},
   "outputs": [],
   "source": [
    "df['mean_of_ratings'] = pd.cut(df['rating'], [1,2,4,5], labels = ['Poor', 'Average', 'Good'])"
   ]
  },
  {
   "cell_type": "code",
   "execution_count": 212,
   "id": "bcbfab61-7eff-402f-8a20-d5ff5e7fa284",
   "metadata": {},
   "outputs": [
    {
     "data": {
      "text/html": [
       "<div>\n",
       "<style scoped>\n",
       "    .dataframe tbody tr th:only-of-type {\n",
       "        vertical-align: middle;\n",
       "    }\n",
       "\n",
       "    .dataframe tbody tr th {\n",
       "        vertical-align: top;\n",
       "    }\n",
       "\n",
       "    .dataframe thead th {\n",
       "        text-align: right;\n",
       "    }\n",
       "</style>\n",
       "<table border=\"1\" class=\"dataframe\">\n",
       "  <thead>\n",
       "    <tr style=\"text-align: right;\">\n",
       "      <th></th>\n",
       "      <th>product_name</th>\n",
       "      <th>category</th>\n",
       "      <th>discounted_price</th>\n",
       "      <th>actual_price</th>\n",
       "      <th>discount_percentage</th>\n",
       "      <th>rating</th>\n",
       "      <th>rating_count</th>\n",
       "      <th>product_type</th>\n",
       "      <th>id</th>\n",
       "      <th>mean_of_ratings</th>\n",
       "    </tr>\n",
       "  </thead>\n",
       "  <tbody>\n",
       "    <tr>\n",
       "      <th>0</th>\n",
       "      <td>Wayona Nylon Braided USB to Lightning Fast Cha...</td>\n",
       "      <td>Computers&amp;Accessories</td>\n",
       "      <td>399.0</td>\n",
       "      <td>1099.0</td>\n",
       "      <td>64%</td>\n",
       "      <td>4.2</td>\n",
       "      <td>24.269</td>\n",
       "      <td>USBCables</td>\n",
       "      <td>0</td>\n",
       "      <td>Good</td>\n",
       "    </tr>\n",
       "    <tr>\n",
       "      <th>1</th>\n",
       "      <td>Ambrane Unbreakable 60W / 3A Fast Charging 1.5...</td>\n",
       "      <td>Computers&amp;Accessories</td>\n",
       "      <td>199.0</td>\n",
       "      <td>349.0</td>\n",
       "      <td>43%</td>\n",
       "      <td>4.0</td>\n",
       "      <td>43.994</td>\n",
       "      <td>USBCables</td>\n",
       "      <td>1</td>\n",
       "      <td>Average</td>\n",
       "    </tr>\n",
       "    <tr>\n",
       "      <th>2</th>\n",
       "      <td>Sounce Fast Phone Charging Cable &amp; Data Sync U...</td>\n",
       "      <td>Computers&amp;Accessories</td>\n",
       "      <td>199.0</td>\n",
       "      <td>1899.0</td>\n",
       "      <td>90%</td>\n",
       "      <td>3.9</td>\n",
       "      <td>7.928</td>\n",
       "      <td>USBCables</td>\n",
       "      <td>2</td>\n",
       "      <td>Average</td>\n",
       "    </tr>\n",
       "    <tr>\n",
       "      <th>3</th>\n",
       "      <td>boAt Deuce USB 300 2 in 1 Type-C &amp; Micro USB S...</td>\n",
       "      <td>Computers&amp;Accessories</td>\n",
       "      <td>329.0</td>\n",
       "      <td>699.0</td>\n",
       "      <td>53%</td>\n",
       "      <td>4.2</td>\n",
       "      <td>94.363</td>\n",
       "      <td>USBCables</td>\n",
       "      <td>3</td>\n",
       "      <td>Good</td>\n",
       "    </tr>\n",
       "    <tr>\n",
       "      <th>4</th>\n",
       "      <td>Portronics Konnect L 1.2M Fast Charging 3A 8 P...</td>\n",
       "      <td>Computers&amp;Accessories</td>\n",
       "      <td>154.0</td>\n",
       "      <td>399.0</td>\n",
       "      <td>61%</td>\n",
       "      <td>4.2</td>\n",
       "      <td>16.905</td>\n",
       "      <td>USBCables</td>\n",
       "      <td>4</td>\n",
       "      <td>Good</td>\n",
       "    </tr>\n",
       "  </tbody>\n",
       "</table>\n",
       "</div>"
      ],
      "text/plain": [
       "                                        product_name               category  \\\n",
       "0  Wayona Nylon Braided USB to Lightning Fast Cha...  Computers&Accessories   \n",
       "1  Ambrane Unbreakable 60W / 3A Fast Charging 1.5...  Computers&Accessories   \n",
       "2  Sounce Fast Phone Charging Cable & Data Sync U...  Computers&Accessories   \n",
       "3  boAt Deuce USB 300 2 in 1 Type-C & Micro USB S...  Computers&Accessories   \n",
       "4  Portronics Konnect L 1.2M Fast Charging 3A 8 P...  Computers&Accessories   \n",
       "\n",
       "   discounted_price  actual_price discount_percentage  rating  rating_count  \\\n",
       "0             399.0        1099.0                 64%     4.2        24.269   \n",
       "1             199.0         349.0                 43%     4.0        43.994   \n",
       "2             199.0        1899.0                 90%     3.9         7.928   \n",
       "3             329.0         699.0                 53%     4.2        94.363   \n",
       "4             154.0         399.0                 61%     4.2        16.905   \n",
       "\n",
       "  product_type  id mean_of_ratings  \n",
       "0    USBCables   0            Good  \n",
       "1    USBCables   1         Average  \n",
       "2    USBCables   2         Average  \n",
       "3    USBCables   3            Good  \n",
       "4    USBCables   4            Good  "
      ]
     },
     "execution_count": 212,
     "metadata": {},
     "output_type": "execute_result"
    }
   ],
   "source": [
    "df.head()"
   ]
  },
  {
   "cell_type": "markdown",
   "id": "1849d7a4-ee3c-4e47-b473-b5ac2ea1d03c",
   "metadata": {},
   "source": [
    "#\n",
    "\n",
    "\n",
    "#### NaN values"
   ]
  },
  {
   "cell_type": "code",
   "execution_count": 213,
   "id": "c17b177a-cb41-42c2-873d-8cea70839a05",
   "metadata": {},
   "outputs": [
    {
     "data": {
      "text/plain": [
       "product_name           0\n",
       "category               0\n",
       "discounted_price       0\n",
       "actual_price           0\n",
       "discount_percentage    0\n",
       "rating                 1\n",
       "rating_count           2\n",
       "product_type           0\n",
       "id                     0\n",
       "mean_of_ratings        1\n",
       "dtype: int64"
      ]
     },
     "execution_count": 213,
     "metadata": {},
     "output_type": "execute_result"
    }
   ],
   "source": [
    "df.isnull().sum()"
   ]
  },
  {
   "cell_type": "code",
   "execution_count": 215,
   "id": "b03b2ba2-9f0c-4ef4-898b-8a610e713dc2",
   "metadata": {},
   "outputs": [
    {
     "data": {
      "text/html": [
       "<div>\n",
       "<style scoped>\n",
       "    .dataframe tbody tr th:only-of-type {\n",
       "        vertical-align: middle;\n",
       "    }\n",
       "\n",
       "    .dataframe tbody tr th {\n",
       "        vertical-align: top;\n",
       "    }\n",
       "\n",
       "    .dataframe thead th {\n",
       "        text-align: right;\n",
       "    }\n",
       "</style>\n",
       "<table border=\"1\" class=\"dataframe\">\n",
       "  <thead>\n",
       "    <tr style=\"text-align: right;\">\n",
       "      <th></th>\n",
       "      <th>product_name</th>\n",
       "      <th>category</th>\n",
       "      <th>discounted_price</th>\n",
       "      <th>actual_price</th>\n",
       "      <th>discount_percentage</th>\n",
       "      <th>rating</th>\n",
       "      <th>rating_count</th>\n",
       "      <th>product_type</th>\n",
       "      <th>id</th>\n",
       "      <th>mean_of_ratings</th>\n",
       "    </tr>\n",
       "  </thead>\n",
       "  <tbody>\n",
       "    <tr>\n",
       "      <th>282</th>\n",
       "      <td>Amazon Brand - Solimo 65W Fast Charging Braide...</td>\n",
       "      <td>Computers&amp;Accessories</td>\n",
       "      <td>199.0</td>\n",
       "      <td>999.0</td>\n",
       "      <td>80%</td>\n",
       "      <td>3.0</td>\n",
       "      <td>NaN</td>\n",
       "      <td>USBCables</td>\n",
       "      <td>282</td>\n",
       "      <td>Average</td>\n",
       "    </tr>\n",
       "    <tr>\n",
       "      <th>324</th>\n",
       "      <td>REDTECH USB-C to Lightning Cable 3.3FT, [Apple...</td>\n",
       "      <td>Computers&amp;Accessories</td>\n",
       "      <td>249.0</td>\n",
       "      <td>999.0</td>\n",
       "      <td>75%</td>\n",
       "      <td>5.0</td>\n",
       "      <td>NaN</td>\n",
       "      <td>USBCables</td>\n",
       "      <td>324</td>\n",
       "      <td>Good</td>\n",
       "    </tr>\n",
       "    <tr>\n",
       "      <th>1279</th>\n",
       "      <td>Eureka Forbes car Vac 100 Watts Powerful Sucti...</td>\n",
       "      <td>Home&amp;Kitchen</td>\n",
       "      <td>2099.0</td>\n",
       "      <td>2499.0</td>\n",
       "      <td>16%</td>\n",
       "      <td>NaN</td>\n",
       "      <td>992.0</td>\n",
       "      <td>HandheldVacuums</td>\n",
       "      <td>1279</td>\n",
       "      <td>NaN</td>\n",
       "    </tr>\n",
       "  </tbody>\n",
       "</table>\n",
       "</div>"
      ],
      "text/plain": [
       "                                           product_name  \\\n",
       "282   Amazon Brand - Solimo 65W Fast Charging Braide...   \n",
       "324   REDTECH USB-C to Lightning Cable 3.3FT, [Apple...   \n",
       "1279  Eureka Forbes car Vac 100 Watts Powerful Sucti...   \n",
       "\n",
       "                   category  discounted_price  actual_price  \\\n",
       "282   Computers&Accessories             199.0         999.0   \n",
       "324   Computers&Accessories             249.0         999.0   \n",
       "1279           Home&Kitchen            2099.0        2499.0   \n",
       "\n",
       "     discount_percentage  rating  rating_count     product_type    id  \\\n",
       "282                  80%     3.0           NaN        USBCables   282   \n",
       "324                  75%     5.0           NaN        USBCables   324   \n",
       "1279                 16%     NaN         992.0  HandheldVacuums  1279   \n",
       "\n",
       "     mean_of_ratings  \n",
       "282          Average  \n",
       "324             Good  \n",
       "1279             NaN  "
      ]
     },
     "execution_count": 215,
     "metadata": {},
     "output_type": "execute_result"
    }
   ],
   "source": [
    "empty_columns_rows = df[df.isnull().any(axis=1)]\n",
    "empty_columns_rows"
   ]
  },
  {
   "cell_type": "code",
   "execution_count": 216,
   "id": "8454223a-1e32-4a2c-b11f-6f0a98ac5628",
   "metadata": {},
   "outputs": [],
   "source": [
    "df = df.dropna()"
   ]
  },
  {
   "cell_type": "code",
   "execution_count": 217,
   "id": "a72c1649-539c-4601-ab0d-34ee9127766d",
   "metadata": {},
   "outputs": [
    {
     "data": {
      "text/plain": [
       "product_name           0\n",
       "category               0\n",
       "discounted_price       0\n",
       "actual_price           0\n",
       "discount_percentage    0\n",
       "rating                 0\n",
       "rating_count           0\n",
       "product_type           0\n",
       "id                     0\n",
       "mean_of_ratings        0\n",
       "dtype: int64"
      ]
     },
     "execution_count": 217,
     "metadata": {},
     "output_type": "execute_result"
    }
   ],
   "source": [
    "df.isnull().sum()"
   ]
  },
  {
   "cell_type": "markdown",
   "id": "c0e29084-00c0-48cf-98ea-2d1671e3d43e",
   "metadata": {},
   "source": [
    "###\n",
    "\n",
    "\n",
    "### Last Check"
   ]
  },
  {
   "cell_type": "code",
   "execution_count": 218,
   "id": "6fbed8e7-a4f4-4f0f-be91-0fa3162f127a",
   "metadata": {},
   "outputs": [
    {
     "name": "stdout",
     "output_type": "stream",
     "text": [
      "Shape--\n",
      "(1462, 10)\n",
      "\n",
      "Types--\n",
      "product_name             object\n",
      "category                 object\n",
      "discounted_price        float64\n",
      "actual_price            float64\n",
      "discount_percentage      object\n",
      "rating                  float64\n",
      "rating_count            float64\n",
      "product_type             object\n",
      "id                        int64\n",
      "mean_of_ratings        category\n",
      "dtype: object\n",
      "\n",
      "NAN--\n",
      "product_name           0\n",
      "category               0\n",
      "discounted_price       0\n",
      "actual_price           0\n",
      "discount_percentage    0\n",
      "rating                 0\n",
      "rating_count           0\n",
      "product_type           0\n",
      "id                     0\n",
      "mean_of_ratings        0\n",
      "dtype: int64\n",
      "\n",
      "Describe--\n",
      "                   count         mean           std     min       25%  \\\n",
      "discounted_price  1462.0  3129.981826   6950.548042  39.000  325.0000   \n",
      "actual_price      1462.0  5453.087743  10884.467444  39.000  800.0000   \n",
      "rating            1462.0     4.096717      0.289497   2.000    4.0000   \n",
      "rating_count      1462.0    88.526977    186.980344   1.001    3.6865   \n",
      "id                1462.0   732.212722    422.947142   0.000  367.2500   \n",
      "\n",
      "                       50%        75%       max  \n",
      "discounted_price   799.000  1999.0000   77990.0  \n",
      "actual_price      1670.000  4321.2500  139900.0  \n",
      "rating               4.100     4.3000       5.0  \n",
      "rating_count        12.962    44.9195     989.0  \n",
      "id                 732.500  1097.7500    1464.0  \n"
     ]
    }
   ],
   "source": [
    "check_df(df)"
   ]
  },
  {
   "cell_type": "markdown",
   "id": "c67054b0-4dea-4c5d-bb4b-ce6c23cd9e28",
   "metadata": {},
   "source": [
    "### \n",
    "\n",
    "### Checking unique values in 'category'"
   ]
  },
  {
   "cell_type": "code",
   "execution_count": 219,
   "id": "45820911-22c3-4772-aee7-af270c9c23b7",
   "metadata": {},
   "outputs": [
    {
     "data": {
      "text/plain": [
       "9"
      ]
     },
     "execution_count": 219,
     "metadata": {},
     "output_type": "execute_result"
    }
   ],
   "source": [
    "df.category.nunique()"
   ]
  },
  {
   "cell_type": "code",
   "execution_count": 220,
   "id": "72aa83b2-22f6-4718-8f25-9afcecdd0c93",
   "metadata": {},
   "outputs": [
    {
     "data": {
      "text/plain": [
       "array(['Computers&Accessories', 'Electronics', 'MusicalInstruments',\n",
       "       'OfficeProducts', 'Home&Kitchen', 'HomeImprovement', 'Toys&Games',\n",
       "       'Car&Motorbike', 'Health&PersonalCare'], dtype=object)"
      ]
     },
     "execution_count": 220,
     "metadata": {},
     "output_type": "execute_result"
    }
   ],
   "source": [
    "df.category.unique()"
   ]
  },
  {
   "cell_type": "code",
   "execution_count": 221,
   "id": "20a26f70-7efe-47de-8460-df6739818eb4",
   "metadata": {},
   "outputs": [
    {
     "data": {
      "text/plain": [
       "207"
      ]
     },
     "execution_count": 221,
     "metadata": {},
     "output_type": "execute_result"
    }
   ],
   "source": [
    "df.product_type.nunique()"
   ]
  },
  {
   "cell_type": "code",
   "execution_count": 222,
   "id": "92255d21-987f-4957-9a78-3efa8060f642",
   "metadata": {},
   "outputs": [
    {
     "data": {
      "text/plain": [
       "array(['USBCables', 'WirelessUSBAdapters', 'HDMICables',\n",
       "       'SmartTelevisions', 'RemoteControls', 'StandardTelevisions',\n",
       "       'TVWall&CeilingMounts', 'RCACables', 'Mounts', 'OpticalCables',\n",
       "       'Projectors', 'Adapters', 'SatelliteReceivers', 'DVICables',\n",
       "       'SpeakerCables', 'StreamingClients', 'AVReceivers&Amplifiers',\n",
       "       'TowerSpeakers', '3DGlasses', 'SmartWatches', 'PowerBanks',\n",
       "       'Smartphones', 'MicroSD', 'BasicMobiles', 'In-Ear',\n",
       "       'AutomobileChargers', 'Cradles', 'WallChargers', 'OTGAdapters',\n",
       "       'Tripods', 'SelfieSticks', 'Stands', 'CableConnectionProtectors',\n",
       "       'Décor', 'ScreenProtectors', 'StylusPens', 'Bedstand&DeskMounts',\n",
       "       'BasicCases', 'HandlebarMounts', 'On-Ear', 'CameraPrivacyCovers',\n",
       "       'PhoneCharms', 'Shower&WallMounts', 'PenDrives', 'Mice',\n",
       "       'GraphicTablets', 'Lapdesks', 'NotebookComputerStands',\n",
       "       'Keyboards', 'Condenser', 'DisposableBatteries',\n",
       "       'GelInkRollerballPens', 'Tape', 'Keyboard&MouseSets',\n",
       "       'ExternalHardDisks', 'VideoCameras', 'Tabletop&TravelTripods',\n",
       "       'Scientific', 'Repeaters&Extenders', 'TripodLegs',\n",
       "       'InkjetInkCartridges', 'DustCovers', 'GamingMice', 'Paints',\n",
       "       'MousePads', 'HardDiskBags', 'Macro&RinglightFlashes',\n",
       "       'NetworkingDevices', 'Routers', 'Over-Ear', 'BluetoothSpeakers',\n",
       "       'GeneralPurposeBatteries&BatteryChargers', 'WireboundNotebooks',\n",
       "       'RechargeableBatteries', 'BluetoothAdapters', 'USBtoUSBAdapters',\n",
       "       'CompleteTripodUnits', 'Notepads&MemoBooks', 'Film', 'Monitors',\n",
       "       'Lamps', 'CleaningKits', 'DomeCameras', 'Gamepads', 'Basic',\n",
       "       'USBHubs', 'PCMicrophones', 'OutdoorSpeakers',\n",
       "       'LaptopSleeves&Slipcases', 'ExternalMemoryCardReaders',\n",
       "       'BottledInk', 'CompositionNotebooks', 'RetractableBallpointPens',\n",
       "       'EthernetCables', 'Memory', 'UninterruptedPowerSupplies', 'Cases',\n",
       "       'SecureDigitalCards', 'SelfieLights', 'Webcams', 'CoolingPads',\n",
       "       'LaptopAccessories', 'Adapters&Multi-Outlets', 'ColouredPaper',\n",
       "       'InternalSolidStateDrives', 'MultimediaSpeakerSystems',\n",
       "       'DataCards&Dongles', 'LaptopChargers&PowerSupplies', 'PCSpeakers',\n",
       "       'BatteryChargers', 'StickBallpointPens', 'WoodenPencils',\n",
       "       'InternalHardDrives', 'Printers', 'Pens', 'SATACables',\n",
       "       'PCHeadsets', 'GamingKeyboards', 'SoundbarSpeakers', 'Earpads',\n",
       "       'InkjetPrinters', 'ColouringPens&Markers', 'Headsets',\n",
       "       'ExternalSolidStateDrives', 'PowerLANAdapters',\n",
       "       'InkjetInkRefills&Kits', 'Notebooks,WritingPads&Diaries',\n",
       "       'BackgroundSupports', 'Financial&Business', 'SurgeProtectors',\n",
       "       'Tablets', 'CordManagement', 'PaintingMaterials',\n",
       "       'TonerCartridges', 'LiquidInkRollerballPens', 'FountainPens',\n",
       "       'Caddies', 'TraditionalLaptops', 'ElectricKettles',\n",
       "       'ElectricHeaters', 'FanHeaters', 'LintShavers',\n",
       "       'DigitalKitchenScales', 'Choppers', 'InductionCooktop',\n",
       "       'HandBlenders', 'DryIrons', 'MixerGrinders', 'InstantWaterHeaters',\n",
       "       'RoomHeaters', 'Kettle&ToasterSets', 'StorageWaterHeaters',\n",
       "       'ImmersionRods', 'AirFryers', 'LaundryBaskets', 'SteamIrons',\n",
       "       'JuicerMixerGrinders', 'HandheldVacuums', 'EggBoilers',\n",
       "       'SandwichMakers', 'MiniFoodProcessors&Choppers', 'DigitalScales',\n",
       "       'VacuumSealers', 'CeilingFans', 'CanisterVacuums',\n",
       "       'PressureWashers,Steam&WindowCleaners', 'HalogenHeaters',\n",
       "       'Pop-upToasters', 'HeatConvectors', 'ElectricGrinders',\n",
       "       'ExhaustFans', 'DripCoffeeMachines', 'WaterPurifierAccessories',\n",
       "       'WaterCartridges', 'Rice&PastaCookers', 'AirPurifiers&Ionizers',\n",
       "       'Wet-DryVacuums', 'HEPAAirPurifiers', 'WaterFilters&Purifiers',\n",
       "       'LaundryBags', 'Sewing&EmbroideryMachines', 'SprayBottles',\n",
       "       'HandMixers', 'WetGrinders', 'OvenToasterGrills', 'Juicers',\n",
       "       'SmallKitchenAppliances', 'DigitalBathroomScales',\n",
       "       'EspressoMachines', 'TableFans', 'MilkFrothers', 'Humidifiers',\n",
       "       'StandMixerAccessories', 'RoboticVacuums', 'YogurtMakers',\n",
       "       'ColdPressJuicers', 'Split-SystemAirConditioners',\n",
       "       'SmallApplianceParts&Accessories', 'WaffleMakers&Irons',\n",
       "       'StovetopEspressoPots', 'MeasuringSpoons', 'CoffeePresses',\n",
       "       'RotiMakers', 'FanParts&Accessories', 'StandMixers',\n",
       "       'PedestalFans', 'HandheldBags'], dtype=object)"
      ]
     },
     "execution_count": 222,
     "metadata": {},
     "output_type": "execute_result"
    }
   ],
   "source": [
    "df.product_type.unique()"
   ]
  },
  {
   "cell_type": "code",
   "execution_count": 223,
   "id": "1e649e87-e8ad-4ef8-bda9-8175e06a642a",
   "metadata": {},
   "outputs": [
    {
     "data": {
      "text/plain": [
       "np.float64(4.096716826265389)"
      ]
     },
     "execution_count": 223,
     "metadata": {},
     "output_type": "execute_result"
    }
   ],
   "source": [
    "df.rating.mean()"
   ]
  },
  {
   "cell_type": "code",
   "execution_count": 224,
   "id": "709e1786-711e-4e5e-93ce-b82fce587e36",
   "metadata": {},
   "outputs": [
    {
     "data": {
      "text/plain": [
       "np.float64(88.52697742818059)"
      ]
     },
     "execution_count": 224,
     "metadata": {},
     "output_type": "execute_result"
    }
   ],
   "source": [
    "df.rating_count.mean()"
   ]
  },
  {
   "cell_type": "code",
   "execution_count": 225,
   "id": "e78775e0-a885-4344-9616-fe7d37300ca7",
   "metadata": {},
   "outputs": [
    {
     "data": {
      "text/html": [
       "<div>\n",
       "<style scoped>\n",
       "    .dataframe tbody tr th:only-of-type {\n",
       "        vertical-align: middle;\n",
       "    }\n",
       "\n",
       "    .dataframe tbody tr th {\n",
       "        vertical-align: top;\n",
       "    }\n",
       "\n",
       "    .dataframe thead th {\n",
       "        text-align: right;\n",
       "    }\n",
       "</style>\n",
       "<table border=\"1\" class=\"dataframe\">\n",
       "  <thead>\n",
       "    <tr style=\"text-align: right;\">\n",
       "      <th></th>\n",
       "      <th>product_name</th>\n",
       "      <th>category</th>\n",
       "      <th>discounted_price</th>\n",
       "      <th>actual_price</th>\n",
       "      <th>discount_percentage</th>\n",
       "      <th>rating</th>\n",
       "      <th>rating_count</th>\n",
       "      <th>product_type</th>\n",
       "      <th>id</th>\n",
       "      <th>mean_of_ratings</th>\n",
       "    </tr>\n",
       "  </thead>\n",
       "  <tbody>\n",
       "    <tr>\n",
       "      <th>0</th>\n",
       "      <td>Wayona Nylon Braided USB to Lightning Fast Cha...</td>\n",
       "      <td>Computers&amp;Accessories</td>\n",
       "      <td>399.0</td>\n",
       "      <td>1099.0</td>\n",
       "      <td>64%</td>\n",
       "      <td>4.2</td>\n",
       "      <td>24.269</td>\n",
       "      <td>USBCables</td>\n",
       "      <td>0</td>\n",
       "      <td>Good</td>\n",
       "    </tr>\n",
       "    <tr>\n",
       "      <th>1</th>\n",
       "      <td>Ambrane Unbreakable 60W / 3A Fast Charging 1.5...</td>\n",
       "      <td>Computers&amp;Accessories</td>\n",
       "      <td>199.0</td>\n",
       "      <td>349.0</td>\n",
       "      <td>43%</td>\n",
       "      <td>4.0</td>\n",
       "      <td>43.994</td>\n",
       "      <td>USBCables</td>\n",
       "      <td>1</td>\n",
       "      <td>Average</td>\n",
       "    </tr>\n",
       "    <tr>\n",
       "      <th>2</th>\n",
       "      <td>Sounce Fast Phone Charging Cable &amp; Data Sync U...</td>\n",
       "      <td>Computers&amp;Accessories</td>\n",
       "      <td>199.0</td>\n",
       "      <td>1899.0</td>\n",
       "      <td>90%</td>\n",
       "      <td>3.9</td>\n",
       "      <td>7.928</td>\n",
       "      <td>USBCables</td>\n",
       "      <td>2</td>\n",
       "      <td>Average</td>\n",
       "    </tr>\n",
       "    <tr>\n",
       "      <th>3</th>\n",
       "      <td>boAt Deuce USB 300 2 in 1 Type-C &amp; Micro USB S...</td>\n",
       "      <td>Computers&amp;Accessories</td>\n",
       "      <td>329.0</td>\n",
       "      <td>699.0</td>\n",
       "      <td>53%</td>\n",
       "      <td>4.2</td>\n",
       "      <td>94.363</td>\n",
       "      <td>USBCables</td>\n",
       "      <td>3</td>\n",
       "      <td>Good</td>\n",
       "    </tr>\n",
       "    <tr>\n",
       "      <th>4</th>\n",
       "      <td>Portronics Konnect L 1.2M Fast Charging 3A 8 P...</td>\n",
       "      <td>Computers&amp;Accessories</td>\n",
       "      <td>154.0</td>\n",
       "      <td>399.0</td>\n",
       "      <td>61%</td>\n",
       "      <td>4.2</td>\n",
       "      <td>16.905</td>\n",
       "      <td>USBCables</td>\n",
       "      <td>4</td>\n",
       "      <td>Good</td>\n",
       "    </tr>\n",
       "  </tbody>\n",
       "</table>\n",
       "</div>"
      ],
      "text/plain": [
       "                                        product_name               category  \\\n",
       "0  Wayona Nylon Braided USB to Lightning Fast Cha...  Computers&Accessories   \n",
       "1  Ambrane Unbreakable 60W / 3A Fast Charging 1.5...  Computers&Accessories   \n",
       "2  Sounce Fast Phone Charging Cable & Data Sync U...  Computers&Accessories   \n",
       "3  boAt Deuce USB 300 2 in 1 Type-C & Micro USB S...  Computers&Accessories   \n",
       "4  Portronics Konnect L 1.2M Fast Charging 3A 8 P...  Computers&Accessories   \n",
       "\n",
       "   discounted_price  actual_price discount_percentage  rating  rating_count  \\\n",
       "0             399.0        1099.0                 64%     4.2        24.269   \n",
       "1             199.0         349.0                 43%     4.0        43.994   \n",
       "2             199.0        1899.0                 90%     3.9         7.928   \n",
       "3             329.0         699.0                 53%     4.2        94.363   \n",
       "4             154.0         399.0                 61%     4.2        16.905   \n",
       "\n",
       "  product_type  id mean_of_ratings  \n",
       "0    USBCables   0            Good  \n",
       "1    USBCables   1         Average  \n",
       "2    USBCables   2         Average  \n",
       "3    USBCables   3            Good  \n",
       "4    USBCables   4            Good  "
      ]
     },
     "execution_count": 225,
     "metadata": {},
     "output_type": "execute_result"
    }
   ],
   "source": [
    "df.head()"
   ]
  },
  {
   "cell_type": "markdown",
   "id": "829d62a5-761d-483f-8cd0-58a3476fc2c7",
   "metadata": {},
   "source": [
    "#\n",
    "\n",
    "### Data Visualization"
   ]
  },
  {
   "cell_type": "markdown",
   "id": "ac388b4d-7817-49db-a13c-2323c297e200",
   "metadata": {},
   "source": [
    "##### Number of Products per Category"
   ]
  },
  {
   "cell_type": "code",
   "execution_count": 232,
   "id": "80056e8c-1627-4102-8a00-df0008e6a7a7",
   "metadata": {},
   "outputs": [
    {
     "data": {
      "image/png": "[encoded data removed]",
      "text/plain": [
       "<Figure size 700x500 with 1 Axes>"
      ]
     },
     "metadata": {},
     "output_type": "display_data"
    }
   ],
   "source": [
    "plt.figure(figsize=(7, 5))\n",
    "ax = sns.countplot(data=df, x='category', palette='tab10')\n",
    "plt.title('Number of Products per Category')\n",
    "plt.xlabel('Category')\n",
    "plt.ylabel('Product Count')\n",
    "plt.xticks(rotation=45)\n",
    "for p in ax.patches:\n",
    "    ax.annotate(format(p.get_height(), '.0f'),\n",
    "              (p.get_x() + p.get_width() / 2., p.get_height()),\n",
    "              ha='center', va='center', xytext=(0, 9), textcoords='offset points')\n",
    "\n",
    "plt.show()\n"
   ]
  },
  {
   "cell_type": "markdown",
   "id": "5c12a032-9c61-437b-8c06-2ea0a98663e6",
   "metadata": {},
   "source": [
    "#\n",
    "\n",
    "\n",
    "\n",
    "### Understanding if there is any relationship between discounted prices and ratings"
   ]
  },
  {
   "cell_type": "code",
   "execution_count": 233,
   "id": "956d60d9-25a5-4f8d-9f9a-4e9dedc92171",
   "metadata": {},
   "outputs": [
    {
     "data": {
      "image/png": "[encoded data removed]",
      "text/plain": [
       "<Figure size 640x480 with 1 Axes>"
      ]
     },
     "metadata": {},
     "output_type": "display_data"
    }
   ],
   "source": [
    "sns.scatterplot(x='rating', y='discounted_price', data=df, color='green')\n",
    "plt.title('discounted_price & rating')\n",
    "plt.show()"
   ]
  },
  {
   "cell_type": "markdown",
   "id": "56f52e9b-737e-4add-9463-5fa746afd8ef",
   "metadata": {},
   "source": [
    "#\n",
    "\n",
    "### Ratings Distribution"
   ]
  },
  {
   "cell_type": "code",
   "execution_count": 249,
   "id": "82421fea-a9ae-4ffa-9094-43dd256c07f4",
   "metadata": {},
   "outputs": [
    {
     "data": {
      "text/html": [
       "<div>\n",
       "<style scoped>\n",
       "    .dataframe tbody tr th:only-of-type {\n",
       "        vertical-align: middle;\n",
       "    }\n",
       "\n",
       "    .dataframe tbody tr th {\n",
       "        vertical-align: top;\n",
       "    }\n",
       "\n",
       "    .dataframe thead th {\n",
       "        text-align: right;\n",
       "    }\n",
       "</style>\n",
       "<table border=\"1\" class=\"dataframe\">\n",
       "  <thead>\n",
       "    <tr style=\"text-align: right;\">\n",
       "      <th></th>\n",
       "      <th>mean_of_ratings</th>\n",
       "      <th>count</th>\n",
       "    </tr>\n",
       "  </thead>\n",
       "  <tbody>\n",
       "    <tr>\n",
       "      <th>0</th>\n",
       "      <td>Poor</td>\n",
       "      <td>1</td>\n",
       "    </tr>\n",
       "    <tr>\n",
       "      <th>1</th>\n",
       "      <td>Average</td>\n",
       "      <td>533</td>\n",
       "    </tr>\n",
       "    <tr>\n",
       "      <th>2</th>\n",
       "      <td>Good</td>\n",
       "      <td>928</td>\n",
       "    </tr>\n",
       "  </tbody>\n",
       "</table>\n",
       "</div>"
      ],
      "text/plain": [
       "  mean_of_ratings  count\n",
       "0            Poor      1\n",
       "1         Average    533\n",
       "2            Good    928"
      ]
     },
     "execution_count": 249,
     "metadata": {},
     "output_type": "execute_result"
    }
   ],
   "source": [
    "product_count = df.groupby('mean_of_ratings').size().reset_index(name='count')\n",
    "product_count"
   ]
  },
  {
   "cell_type": "code",
   "execution_count": 251,
   "id": "b8eeced6-81b4-4928-b479-5a8414b55ae9",
   "metadata": {},
   "outputs": [
    {
     "data": {
      "image/png": "[encoded data removed]",
      "text/plain": [
       "<Figure size 640x480 with 1 Axes>"
      ]
     },
     "metadata": {},
     "output_type": "display_data"
    }
   ],
   "source": [
    "sns.countplot(x='mean_of_ratings', data=df, palette='tab10')\n",
    "plt.title('Ratings Distribution')\n",
    "for index, value in enumerate(product_count['count']):\n",
    "    plt.text(index, value+2, str(value), ha='center')\n",
    "plt.show()"
   ]
  },
  {
   "cell_type": "code",
   "execution_count": 254,
   "id": "b91711c2-ed0e-4172-b3ac-f84e88e1868e",
   "metadata": {},
   "outputs": [
    {
     "data": {
      "image/png": "[encoded data removed]",
      "text/plain": [
       "<Figure size 500x500 with 1 Axes>"
      ]
     },
     "metadata": {},
     "output_type": "display_data"
    }
   ],
   "source": [
    "sns.displot(x='rating', data=df, kde=True);"
   ]
  },
  {
   "cell_type": "markdown",
   "id": "59f0fa07-e30b-4907-9b16-6ac4e008f070",
   "metadata": {},
   "source": [
    "#\n",
    "\n",
    "### Number of most sold 10 products"
   ]
  },
  {
   "cell_type": "code",
   "execution_count": 261,
   "id": "8cc43eba-8d64-4f7d-8588-a7a6889551ab",
   "metadata": {},
   "outputs": [
    {
     "data": {
      "text/plain": [
       "product_type\n",
       "USBCables           231\n",
       "SmartWatches         76\n",
       "Smartphones          68\n",
       "SmartTelevisions     63\n",
       "In-Ear               52\n",
       "RemoteControls       49\n",
       "MixerGrinders        27\n",
       "Mice                 24\n",
       "HDMICables           24\n",
       "DryIrons             24\n",
       "Name: count, dtype: int64"
      ]
     },
     "execution_count": 261,
     "metadata": {},
     "output_type": "execute_result"
    }
   ],
   "source": [
    "most_sold = df['product_type'].value_counts().sort_values(ascending=False)[0:10]\n",
    "most_sold"
   ]
  },
  {
   "cell_type": "code",
   "execution_count": 264,
   "id": "38b256ec-6eeb-4091-a71d-fb24a98a885c",
   "metadata": {},
   "outputs": [
    {
     "data": {
      "text/html": [
       "<div>\n",
       "<style scoped>\n",
       "    .dataframe tbody tr th:only-of-type {\n",
       "        vertical-align: middle;\n",
       "    }\n",
       "\n",
       "    .dataframe tbody tr th {\n",
       "        vertical-align: top;\n",
       "    }\n",
       "\n",
       "    .dataframe thead th {\n",
       "        text-align: right;\n",
       "    }\n",
       "</style>\n",
       "<table border=\"1\" class=\"dataframe\">\n",
       "  <thead>\n",
       "    <tr style=\"text-align: right;\">\n",
       "      <th></th>\n",
       "      <th>product_type</th>\n",
       "      <th>mean_of_dprice</th>\n",
       "    </tr>\n",
       "  </thead>\n",
       "  <tbody>\n",
       "    <tr>\n",
       "      <th>0</th>\n",
       "      <td>DryIrons</td>\n",
       "      <td>762.17</td>\n",
       "    </tr>\n",
       "    <tr>\n",
       "      <th>1</th>\n",
       "      <td>HDMICables</td>\n",
       "      <td>406.29</td>\n",
       "    </tr>\n",
       "    <tr>\n",
       "      <th>2</th>\n",
       "      <td>In-Ear</td>\n",
       "      <td>976.17</td>\n",
       "    </tr>\n",
       "    <tr>\n",
       "      <th>3</th>\n",
       "      <td>Mice</td>\n",
       "      <td>609.33</td>\n",
       "    </tr>\n",
       "    <tr>\n",
       "      <th>4</th>\n",
       "      <td>MixerGrinders</td>\n",
       "      <td>3004.72</td>\n",
       "    </tr>\n",
       "    <tr>\n",
       "      <th>5</th>\n",
       "      <td>RemoteControls</td>\n",
       "      <td>438.94</td>\n",
       "    </tr>\n",
       "    <tr>\n",
       "      <th>6</th>\n",
       "      <td>SmartTelevisions</td>\n",
       "      <td>24840.19</td>\n",
       "    </tr>\n",
       "    <tr>\n",
       "      <th>7</th>\n",
       "      <td>SmartWatches</td>\n",
       "      <td>2339.70</td>\n",
       "    </tr>\n",
       "    <tr>\n",
       "      <th>8</th>\n",
       "      <td>Smartphones</td>\n",
       "      <td>15754.44</td>\n",
       "    </tr>\n",
       "    <tr>\n",
       "      <th>9</th>\n",
       "      <td>USBCables</td>\n",
       "      <td>361.91</td>\n",
       "    </tr>\n",
       "  </tbody>\n",
       "</table>\n",
       "</div>"
      ],
      "text/plain": [
       "       product_type  mean_of_dprice\n",
       "0          DryIrons          762.17\n",
       "1        HDMICables          406.29\n",
       "2            In-Ear          976.17\n",
       "3              Mice          609.33\n",
       "4     MixerGrinders         3004.72\n",
       "5    RemoteControls          438.94\n",
       "6  SmartTelevisions        24840.19\n",
       "7      SmartWatches         2339.70\n",
       "8       Smartphones        15754.44\n",
       "9         USBCables          361.91"
      ]
     },
     "execution_count": 264,
     "metadata": {},
     "output_type": "execute_result"
    }
   ],
   "source": [
    "filtered_df = df[df.product_type.isin(most_sold.index)]\n",
    "filtered_df.groupby('product_type')['discounted_price'].mean().round(2).reset_index(name='mean_of_dprice')"
   ]
  },
  {
   "cell_type": "code",
   "execution_count": 268,
   "id": "d7a08536-5644-4aa4-9224-03772cfdfc7f",
   "metadata": {},
   "outputs": [
    {
     "data": {
      "image/png": "[encoded data removed]",
      "text/plain": [
       "<Figure size 400x600 with 1 Axes>"
      ]
     },
     "metadata": {},
     "output_type": "display_data"
    }
   ],
   "source": [
    "fig, ax = plt.subplots(figsize=(4, 6))\n",
    "ax.pie(most_sold.values, labels=most_sold.index, autopct='%1.1f%%', startangle=90,\n",
    "       textprops={'fontsize': 8})\n",
    "\n",
    "ax.set_title('Number of most sold 10 products', fontsize=10)\n",
    "ax.axis('equal')\n",
    "\n",
    "plt.show()"
   ]
  },
  {
   "cell_type": "markdown",
   "id": "4f6b57de-f008-4e68-9019-1637529ee934",
   "metadata": {},
   "source": [
    "#\n",
    "\n",
    "\n",
    "### Total order & rating"
   ]
  },
  {
   "cell_type": "code",
   "execution_count": 270,
   "id": "6705553f-704d-41cf-a2e5-cee8231b5e7b",
   "metadata": {},
   "outputs": [
    {
     "data": {
      "text/html": [
       "<div>\n",
       "<style scoped>\n",
       "    .dataframe tbody tr th:only-of-type {\n",
       "        vertical-align: middle;\n",
       "    }\n",
       "\n",
       "    .dataframe tbody tr th {\n",
       "        vertical-align: top;\n",
       "    }\n",
       "\n",
       "    .dataframe thead th {\n",
       "        text-align: right;\n",
       "    }\n",
       "</style>\n",
       "<table border=\"1\" class=\"dataframe\">\n",
       "  <thead>\n",
       "    <tr style=\"text-align: right;\">\n",
       "      <th></th>\n",
       "      <th>rating</th>\n",
       "      <th>count</th>\n",
       "    </tr>\n",
       "  </thead>\n",
       "  <tbody>\n",
       "    <tr>\n",
       "      <th>0</th>\n",
       "      <td>2.0</td>\n",
       "      <td>1</td>\n",
       "    </tr>\n",
       "    <tr>\n",
       "      <th>1</th>\n",
       "      <td>2.3</td>\n",
       "      <td>1</td>\n",
       "    </tr>\n",
       "    <tr>\n",
       "      <th>2</th>\n",
       "      <td>2.6</td>\n",
       "      <td>1</td>\n",
       "    </tr>\n",
       "    <tr>\n",
       "      <th>3</th>\n",
       "      <td>2.8</td>\n",
       "      <td>2</td>\n",
       "    </tr>\n",
       "    <tr>\n",
       "      <th>4</th>\n",
       "      <td>2.9</td>\n",
       "      <td>1</td>\n",
       "    </tr>\n",
       "  </tbody>\n",
       "</table>\n",
       "</div>"
      ],
      "text/plain": [
       "   rating  count\n",
       "0     2.0      1\n",
       "1     2.3      1\n",
       "2     2.6      1\n",
       "3     2.8      2\n",
       "4     2.9      1"
      ]
     },
     "execution_count": 270,
     "metadata": {},
     "output_type": "execute_result"
    }
   ],
   "source": [
    "rating_count = df.groupby('rating')['rating'].count().reset_index(name='count')\n",
    "rating_count.head()"
   ]
  },
  {
   "cell_type": "code",
   "execution_count": 274,
   "id": "4fb7c281-b556-4639-b519-c0e8822370c5",
   "metadata": {},
   "outputs": [
    {
     "data": {
      "image/png": "[encoded data removed]",
      "text/plain": [
       "<Figure size 640x480 with 1 Axes>"
      ]
     },
     "metadata": {},
     "output_type": "display_data"
    }
   ],
   "source": [
    "sns.lineplot(data=rating_count, x='rating', y='count', marker='o', color='red')\n",
    "plt.title('Total order & rating')\n",
    "plt.show()"
   ]
  },
  {
   "cell_type": "markdown",
   "id": "33dfd841-61c5-4a67-b1aa-888f5d82c5fa",
   "metadata": {},
   "source": [
    "#\n",
    "\n",
    "### Rating & Rating_Count"
   ]
  },
  {
   "cell_type": "code",
   "execution_count": 276,
   "id": "5d2ddb75-2c7a-4521-b724-316f2901638c",
   "metadata": {},
   "outputs": [
    {
     "data": {
      "image/png": "[encoded data removed]",
      "text/plain": [
       "<Figure size 640x480 with 1 Axes>"
      ]
     },
     "metadata": {},
     "output_type": "display_data"
    }
   ],
   "source": [
    "sns.lineplot(data=df, x='rating', y='rating_count', marker='o', color='blue')\n",
    "plt.title('Rating & Rating_Count')\n",
    "plt.xlabel('Rating')\n",
    "plt.ylabel('Rating_Count')\n",
    "plt.show()"
   ]
  },
  {
   "cell_type": "markdown",
   "id": "4d078a28-d601-467d-91a4-3b4764e1ecbc",
   "metadata": {},
   "source": [
    "#\n",
    "\n",
    "\n",
    "### Total Order & Rating"
   ]
  },
  {
   "cell_type": "code",
   "execution_count": 277,
   "id": "8bddb006-868a-4d3c-a08a-e2b7d696fb9b",
   "metadata": {},
   "outputs": [
    {
     "data": {
      "text/html": [
       "<div>\n",
       "<style scoped>\n",
       "    .dataframe tbody tr th:only-of-type {\n",
       "        vertical-align: middle;\n",
       "    }\n",
       "\n",
       "    .dataframe tbody tr th {\n",
       "        vertical-align: top;\n",
       "    }\n",
       "\n",
       "    .dataframe thead th {\n",
       "        text-align: right;\n",
       "    }\n",
       "</style>\n",
       "<table border=\"1\" class=\"dataframe\">\n",
       "  <thead>\n",
       "    <tr style=\"text-align: right;\">\n",
       "      <th></th>\n",
       "      <th>rating</th>\n",
       "      <th>count</th>\n",
       "    </tr>\n",
       "  </thead>\n",
       "  <tbody>\n",
       "    <tr>\n",
       "      <th>0</th>\n",
       "      <td>2.0</td>\n",
       "      <td>1</td>\n",
       "    </tr>\n",
       "    <tr>\n",
       "      <th>1</th>\n",
       "      <td>2.3</td>\n",
       "      <td>1</td>\n",
       "    </tr>\n",
       "    <tr>\n",
       "      <th>2</th>\n",
       "      <td>2.6</td>\n",
       "      <td>1</td>\n",
       "    </tr>\n",
       "    <tr>\n",
       "      <th>3</th>\n",
       "      <td>2.8</td>\n",
       "      <td>2</td>\n",
       "    </tr>\n",
       "    <tr>\n",
       "      <th>4</th>\n",
       "      <td>2.9</td>\n",
       "      <td>1</td>\n",
       "    </tr>\n",
       "  </tbody>\n",
       "</table>\n",
       "</div>"
      ],
      "text/plain": [
       "   rating  count\n",
       "0     2.0      1\n",
       "1     2.3      1\n",
       "2     2.6      1\n",
       "3     2.8      2\n",
       "4     2.9      1"
      ]
     },
     "execution_count": 277,
     "metadata": {},
     "output_type": "execute_result"
    }
   ],
   "source": [
    "rating_count = df.groupby('rating')['rating'].count().reset_index(name='count')\n",
    "rating_count.head()"
   ]
  },
  {
   "cell_type": "code",
   "execution_count": 281,
   "id": "608f7428-f7f9-4a08-96d8-a8ae6068389b",
   "metadata": {},
   "outputs": [
    {
     "data": {
      "text/html": [
       "<div>\n",
       "<style scoped>\n",
       "    .dataframe tbody tr th:only-of-type {\n",
       "        vertical-align: middle;\n",
       "    }\n",
       "\n",
       "    .dataframe tbody tr th {\n",
       "        vertical-align: top;\n",
       "    }\n",
       "\n",
       "    .dataframe thead th {\n",
       "        text-align: right;\n",
       "    }\n",
       "</style>\n",
       "<table border=\"1\" class=\"dataframe\">\n",
       "  <thead>\n",
       "    <tr style=\"text-align: right;\">\n",
       "      <th></th>\n",
       "      <th>product_name</th>\n",
       "      <th>category</th>\n",
       "      <th>discounted_price</th>\n",
       "      <th>actual_price</th>\n",
       "      <th>discount_percentage</th>\n",
       "      <th>rating</th>\n",
       "      <th>rating_count</th>\n",
       "      <th>product_type</th>\n",
       "      <th>id</th>\n",
       "      <th>mean_of_ratings</th>\n",
       "    </tr>\n",
       "  </thead>\n",
       "  <tbody>\n",
       "    <tr>\n",
       "      <th>0</th>\n",
       "      <td>Wayona Nylon Braided USB to Lightning Fast Cha...</td>\n",
       "      <td>Computers&amp;Accessories</td>\n",
       "      <td>399.0</td>\n",
       "      <td>1099.0</td>\n",
       "      <td>64%</td>\n",
       "      <td>4.2</td>\n",
       "      <td>24.269</td>\n",
       "      <td>USBCables</td>\n",
       "      <td>0</td>\n",
       "      <td>Good</td>\n",
       "    </tr>\n",
       "    <tr>\n",
       "      <th>1</th>\n",
       "      <td>Ambrane Unbreakable 60W / 3A Fast Charging 1.5...</td>\n",
       "      <td>Computers&amp;Accessories</td>\n",
       "      <td>199.0</td>\n",
       "      <td>349.0</td>\n",
       "      <td>43%</td>\n",
       "      <td>4.0</td>\n",
       "      <td>43.994</td>\n",
       "      <td>USBCables</td>\n",
       "      <td>1</td>\n",
       "      <td>Average</td>\n",
       "    </tr>\n",
       "    <tr>\n",
       "      <th>2</th>\n",
       "      <td>Sounce Fast Phone Charging Cable &amp; Data Sync U...</td>\n",
       "      <td>Computers&amp;Accessories</td>\n",
       "      <td>199.0</td>\n",
       "      <td>1899.0</td>\n",
       "      <td>90%</td>\n",
       "      <td>3.9</td>\n",
       "      <td>7.928</td>\n",
       "      <td>USBCables</td>\n",
       "      <td>2</td>\n",
       "      <td>Average</td>\n",
       "    </tr>\n",
       "    <tr>\n",
       "      <th>3</th>\n",
       "      <td>boAt Deuce USB 300 2 in 1 Type-C &amp; Micro USB S...</td>\n",
       "      <td>Computers&amp;Accessories</td>\n",
       "      <td>329.0</td>\n",
       "      <td>699.0</td>\n",
       "      <td>53%</td>\n",
       "      <td>4.2</td>\n",
       "      <td>94.363</td>\n",
       "      <td>USBCables</td>\n",
       "      <td>3</td>\n",
       "      <td>Good</td>\n",
       "    </tr>\n",
       "    <tr>\n",
       "      <th>4</th>\n",
       "      <td>Portronics Konnect L 1.2M Fast Charging 3A 8 P...</td>\n",
       "      <td>Computers&amp;Accessories</td>\n",
       "      <td>154.0</td>\n",
       "      <td>399.0</td>\n",
       "      <td>61%</td>\n",
       "      <td>4.2</td>\n",
       "      <td>16.905</td>\n",
       "      <td>USBCables</td>\n",
       "      <td>4</td>\n",
       "      <td>Good</td>\n",
       "    </tr>\n",
       "  </tbody>\n",
       "</table>\n",
       "</div>"
      ],
      "text/plain": [
       "                                        product_name               category  \\\n",
       "0  Wayona Nylon Braided USB to Lightning Fast Cha...  Computers&Accessories   \n",
       "1  Ambrane Unbreakable 60W / 3A Fast Charging 1.5...  Computers&Accessories   \n",
       "2  Sounce Fast Phone Charging Cable & Data Sync U...  Computers&Accessories   \n",
       "3  boAt Deuce USB 300 2 in 1 Type-C & Micro USB S...  Computers&Accessories   \n",
       "4  Portronics Konnect L 1.2M Fast Charging 3A 8 P...  Computers&Accessories   \n",
       "\n",
       "   discounted_price  actual_price discount_percentage  rating  rating_count  \\\n",
       "0             399.0        1099.0                 64%     4.2        24.269   \n",
       "1             199.0         349.0                 43%     4.0        43.994   \n",
       "2             199.0        1899.0                 90%     3.9         7.928   \n",
       "3             329.0         699.0                 53%     4.2        94.363   \n",
       "4             154.0         399.0                 61%     4.2        16.905   \n",
       "\n",
       "  product_type  id mean_of_ratings  \n",
       "0    USBCables   0            Good  \n",
       "1    USBCables   1         Average  \n",
       "2    USBCables   2         Average  \n",
       "3    USBCables   3            Good  \n",
       "4    USBCables   4            Good  "
      ]
     },
     "execution_count": 281,
     "metadata": {},
     "output_type": "execute_result"
    }
   ],
   "source": [
    "df.head()"
   ]
  },
  {
   "cell_type": "code",
   "execution_count": null,
   "id": "d7ab5a4e-c08e-47e7-8019-f86161b51233",
   "metadata": {},
   "outputs": [],
   "source": []
  }
 ],
 "metadata": {
  "kernelspec": {
   "display_name": "Python 3 (ipykernel)",
   "language": "python",
   "name": "python3"
  },
  "language_info": {
   "codemirror_mode": {
    "name": "ipython",
    "version": 3
   },
   "file_extension": ".py",
   "mimetype": "text/x-python",
   "name": "python",
   "nbconvert_exporter": "python",
   "pygments_lexer": "ipython3",
   "version": "3.13.1"
  }
 },
 "nbformat": 4,
 "nbformat_minor": 5
}
